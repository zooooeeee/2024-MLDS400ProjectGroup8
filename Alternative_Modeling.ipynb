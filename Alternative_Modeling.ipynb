{
 "cells": [
  {
   "cell_type": "code",
   "execution_count": 1,
   "metadata": {},
   "outputs": [],
   "source": [
    "import pandas as pd \n",
    "import numpy as np \n",
    "import matplotlib.pyplot as plt\n",
    "import seaborn as sns\n",
    "from rpy2 import robjects as ro\n",
    "from rpy2.robjects import pandas2ri"
   ]
  },
  {
   "cell_type": "code",
   "execution_count": 2,
   "metadata": {},
   "outputs": [],
   "source": [
    "df_final = pd.read_pickle(\"df_final.pkl\")"
   ]
  },
  {
   "cell_type": "code",
   "execution_count": 3,
   "metadata": {},
   "outputs": [
    {
     "data": {
      "text/html": [
       "<div>\n",
       "<style scoped>\n",
       "    .dataframe tbody tr th:only-of-type {\n",
       "        vertical-align: middle;\n",
       "    }\n",
       "\n",
       "    .dataframe tbody tr th {\n",
       "        vertical-align: top;\n",
       "    }\n",
       "\n",
       "    .dataframe thead th {\n",
       "        text-align: right;\n",
       "    }\n",
       "</style>\n",
       "<table border=\"1\" class=\"dataframe\">\n",
       "  <thead>\n",
       "    <tr style=\"text-align: right;\">\n",
       "      <th></th>\n",
       "      <th>Salemonth</th>\n",
       "      <th>ORGPRICE</th>\n",
       "      <th>AMT</th>\n",
       "      <th>amt_diff</th>\n",
       "      <th>retail_diff</th>\n",
       "      <th>BRAND_dummy_Affordable</th>\n",
       "      <th>BRAND_dummy_Luxury</th>\n",
       "      <th>ReturnRate</th>\n",
       "      <th>Returns</th>\n",
       "    </tr>\n",
       "  </thead>\n",
       "  <tbody>\n",
       "    <tr>\n",
       "      <th>0</th>\n",
       "      <td>1</td>\n",
       "      <td>30.0</td>\n",
       "      <td>0.0</td>\n",
       "      <td>-30.0</td>\n",
       "      <td>410.0</td>\n",
       "      <td>1</td>\n",
       "      <td>0</td>\n",
       "      <td>0.075151</td>\n",
       "      <td>0</td>\n",
       "    </tr>\n",
       "    <tr>\n",
       "      <th>1</th>\n",
       "      <td>1</td>\n",
       "      <td>30.0</td>\n",
       "      <td>0.0</td>\n",
       "      <td>-30.0</td>\n",
       "      <td>410.0</td>\n",
       "      <td>1</td>\n",
       "      <td>0</td>\n",
       "      <td>0.075151</td>\n",
       "      <td>1</td>\n",
       "    </tr>\n",
       "    <tr>\n",
       "      <th>2</th>\n",
       "      <td>7</td>\n",
       "      <td>6.0</td>\n",
       "      <td>6.0</td>\n",
       "      <td>0.0</td>\n",
       "      <td>-3.0</td>\n",
       "      <td>0</td>\n",
       "      <td>0</td>\n",
       "      <td>0.075151</td>\n",
       "      <td>0</td>\n",
       "    </tr>\n",
       "    <tr>\n",
       "      <th>3</th>\n",
       "      <td>6</td>\n",
       "      <td>6.0</td>\n",
       "      <td>6.0</td>\n",
       "      <td>0.0</td>\n",
       "      <td>-3.0</td>\n",
       "      <td>0</td>\n",
       "      <td>0</td>\n",
       "      <td>0.075151</td>\n",
       "      <td>0</td>\n",
       "    </tr>\n",
       "    <tr>\n",
       "      <th>4</th>\n",
       "      <td>7</td>\n",
       "      <td>6.0</td>\n",
       "      <td>6.0</td>\n",
       "      <td>0.0</td>\n",
       "      <td>-3.0</td>\n",
       "      <td>0</td>\n",
       "      <td>0</td>\n",
       "      <td>0.075151</td>\n",
       "      <td>0</td>\n",
       "    </tr>\n",
       "  </tbody>\n",
       "</table>\n",
       "</div>"
      ],
      "text/plain": [
       "  Salemonth  ORGPRICE  AMT  amt_diff  retail_diff  BRAND_dummy_Affordable  \\\n",
       "0         1      30.0  0.0     -30.0        410.0                       1   \n",
       "1         1      30.0  0.0     -30.0        410.0                       1   \n",
       "2         7       6.0  6.0       0.0         -3.0                       0   \n",
       "3         6       6.0  6.0       0.0         -3.0                       0   \n",
       "4         7       6.0  6.0       0.0         -3.0                       0   \n",
       "\n",
       "   BRAND_dummy_Luxury  ReturnRate  Returns  \n",
       "0                   0    0.075151        0  \n",
       "1                   0    0.075151        1  \n",
       "2                   0    0.075151        0  \n",
       "3                   0    0.075151        0  \n",
       "4                   0    0.075151        0  "
      ]
     },
     "execution_count": 3,
     "metadata": {},
     "output_type": "execute_result"
    }
   ],
   "source": [
    "df_final.head()"
   ]
  },
  {
   "cell_type": "code",
   "execution_count": 4,
   "metadata": {},
   "outputs": [
    {
     "name": "stdout",
     "output_type": "stream",
     "text": [
      "Training set shape: (46994555, 9)\n",
      "Testing set shape: (11748639, 9)\n"
     ]
    }
   ],
   "source": [
    "from sklearn.model_selection import train_test_split\n",
    "\n",
    "# Split the dataset into 80% training and 20% testing\n",
    "train_set, test_set = train_test_split(df_final, test_size=0.2, random_state=42)\n",
    "\n",
    "# Display the shapes of the training and testing sets\n",
    "print(\"Training set shape:\", train_set.shape)\n",
    "print(\"Testing set shape:\", test_set.shape)"
   ]
  },
  {
   "cell_type": "code",
   "execution_count": 5,
   "metadata": {},
   "outputs": [],
   "source": [
    "# Separate features (X) and target variable (y)\n",
    "X_test = test_set.drop('Returns', axis=1)\n",
    "y_test = test_set['Returns']"
   ]
  },
  {
   "cell_type": "code",
   "execution_count": 6,
   "metadata": {},
   "outputs": [
    {
     "name": "stdout",
     "output_type": "stream",
     "text": [
      "         Salemonth  ORGPRICE   AMT  amt_diff  retail_diff  \\\n",
      "39980653         2      48.0  48.0       0.0       -36.00   \n",
      "56214121        12      17.5  13.5      -4.0        -4.00   \n",
      "29789557         1      14.5  13.5      -1.0        -0.50   \n",
      "9953600          6      39.5  39.5       0.0       -19.75   \n",
      "48380587         3      14.0  13.5      -0.5         0.00   \n",
      "...            ...       ...   ...       ...          ...   \n",
      "16720044         2      24.0  22.0      -2.0         0.00   \n",
      "5792351          7      98.0  98.0       0.0       -73.50   \n",
      "20421427         5      29.5  29.5       0.0         0.00   \n",
      "50982336         3      20.0   6.0     -14.0       -18.50   \n",
      "12045828        11      69.0  59.0     -10.0       -39.50   \n",
      "\n",
      "          BRAND_dummy_Affordable  BRAND_dummy_Luxury  ReturnRate  Returns  \n",
      "39980653                       1                   0    0.081596        0  \n",
      "56214121                       0                   0    0.073429        0  \n",
      "29789557                       0                   0    0.084576        0  \n",
      "9953600                        1                   0    0.075151        0  \n",
      "48380587                       0                   0    0.069827        0  \n",
      "...                          ...                 ...         ...      ...  \n",
      "16720044                       1                   0    0.079782        1  \n",
      "5792351                        0                   1    0.074856        1  \n",
      "20421427                       1                   0    0.077177        1  \n",
      "50982336                       1                   0    0.081696        1  \n",
      "12045828                       0                   1    0.073191        1  \n",
      "\n",
      "[30000 rows x 9 columns]\n"
     ]
    }
   ],
   "source": [
    "# Randomly select 15,000 samples where Returns == 0\n",
    "returns_0_samples = train_set[train_set['Returns'] == 0].sample(n=15000, random_state=42)\n",
    "\n",
    "# Randomly select 15 samples where Returns == 1\n",
    "returns_1_samples = train_set[train_set['Returns'] == 1].sample(n=15000, random_state=42)\n",
    "\n",
    "# Concatenate the two samples\n",
    "train_new = pd.concat([returns_0_samples, returns_1_samples])\n",
    "\n",
    "# Display the selected samples\n",
    "print(train_new)\n"
   ]
  },
  {
   "cell_type": "code",
   "execution_count": 7,
   "metadata": {},
   "outputs": [],
   "source": [
    "from sklearn.preprocessing import StandardScaler\n",
    "from sklearn.linear_model import LogisticRegression\n",
    "from sklearn.datasets import make_classification\n",
    "import statsmodels.api as sm\n",
    "from sklearn.metrics import roc_curve, auc\n",
    "\n",
    "from imblearn.over_sampling import SMOTE\n",
    "from sklearn.model_selection import train_test_split\n",
    "from sklearn.metrics import classification_report, accuracy_score, confusion_matrix\n",
    "from collections import Counter\n",
    "import pickle"
   ]
  },
  {
   "cell_type": "code",
   "execution_count": 8,
   "metadata": {},
   "outputs": [
    {
     "name": "stdout",
     "output_type": "stream",
     "text": [
      "Columns with all NaN values:\n",
      "Salemonth                 False\n",
      "ORGPRICE                  False\n",
      "AMT                       False\n",
      "amt_diff                  False\n",
      "retail_diff               False\n",
      "BRAND_dummy_Affordable    False\n",
      "BRAND_dummy_Luxury        False\n",
      "ReturnRate                False\n",
      "Returns                   False\n",
      "dtype: bool\n"
     ]
    }
   ],
   "source": [
    "# Check if every column has all NaN values\n",
    "nan_check_all = train_new.isnull().all()\n",
    "\n",
    "# Display the result\n",
    "print(\"Columns with all NaN values:\")\n",
    "print(nan_check_all)"
   ]
  },
  {
   "cell_type": "code",
   "execution_count": 9,
   "metadata": {},
   "outputs": [],
   "source": [
    "# Separate features (X) and target variable (y)\n",
    "X_train = train_new.drop('Returns', axis=1)\n",
    "y_train = train_new['Returns']"
   ]
  },
  {
   "cell_type": "code",
   "execution_count": 10,
   "metadata": {},
   "outputs": [
    {
     "data": {
      "text/plain": [
       "(30000, 8)"
      ]
     },
     "execution_count": 10,
     "metadata": {},
     "output_type": "execute_result"
    }
   ],
   "source": [
    "X_train.shape"
   ]
  },
  {
   "cell_type": "code",
   "execution_count": 11,
   "metadata": {},
   "outputs": [
    {
     "name": "stdout",
     "output_type": "stream",
     "text": [
      "Intercept: [-0.63271198]\n",
      "Coefficients: [[ 0.00629065 -0.00217032  0.00484841  0.00701872 -0.00387496  0.55052183\n",
      "   0.61727466 -0.03928453]]\n"
     ]
    }
   ],
   "source": [
    "fit1 =LogisticRegression()\n",
    "fit1.fit(X_train,y_train)\n",
    "\n",
    "# Display the summary\n",
    "print(\"Intercept:\", fit1.intercept_)\n",
    "print('Coefficients:', fit1.coef_)"
   ]
  },
  {
   "cell_type": "code",
   "execution_count": 12,
   "metadata": {},
   "outputs": [
    {
     "name": "stdout",
     "output_type": "stream",
     "text": [
      "Accuracy on Test Data: 0.44680307225373084\n",
      "Confusion Matrix on Test Data:\n",
      " [[4587375 6276071]\n",
      " [ 223240  661953]]\n",
      "Classification Report on Test Data:\n",
      "               precision    recall  f1-score   support\n",
      "\n",
      "           0       0.95      0.42      0.59  10863446\n",
      "           1       0.10      0.75      0.17    885193\n",
      "\n",
      "    accuracy                           0.45  11748639\n",
      "   macro avg       0.52      0.59      0.38  11748639\n",
      "weighted avg       0.89      0.45      0.55  11748639\n",
      "\n"
     ]
    }
   ],
   "source": [
    "# Make predictions on the resampled test data\n",
    "pred1 = fit1.predict(X_test)\n",
    "\n",
    "# Evaluate the model on the resampled training data\n",
    "accuracy_resampled = accuracy_score(y_test, pred1)\n",
    "conf_matrix_resampled = confusion_matrix(y_test, pred1)\n",
    "classification_rep_resampled = classification_report(y_test, pred1)\n",
    "\n",
    "# Print the evaluation metrics on the resampled training data\n",
    "print(\"Accuracy on Test Data:\", accuracy_resampled)\n",
    "print(\"Confusion Matrix on Test Data:\\n\", conf_matrix_resampled)\n",
    "print(\"Classification Report on Test Data:\\n\", classification_rep_resampled)"
   ]
  },
  {
   "cell_type": "code",
   "execution_count": 13,
   "metadata": {},
   "outputs": [
    {
     "data": {
      "image/png": "[encoded data removed]",
      "text/plain": [
       "<Figure size 800x800 with 1 Axes>"
      ]
     },
     "metadata": {},
     "output_type": "display_data"
    }
   ],
   "source": [
    "## ROC curve \n",
    "\n",
    "# Generate ROC curve\n",
    "fpr, tpr, thresholds = roc_curve(y_test, pred1)\n",
    "\n",
    "# Calculate the area under the ROC curve (AUC)\n",
    "roc_auc = auc(fpr, tpr)\n",
    "\n",
    "# Plot the ROC curve\n",
    "plt.figure(figsize=(8, 8))\n",
    "plt.plot(fpr, tpr, color='darkorange', lw=2, label=f'ROC curve (AUC = {roc_auc:.2f})')\n",
    "plt.plot([0, 1], [0, 1], color='navy', lw=2, linestyle='--')\n",
    "plt.xlabel('False Positive Rate')\n",
    "plt.ylabel('True Positive Rate')\n",
    "plt.title('Receiver Operating Characteristic (ROC) Curve')\n",
    "plt.legend(loc='lower right')\n",
    "plt.show()"
   ]
  }
 ],
 "metadata": {
  "kernelspec": {
   "display_name": "base",
   "language": "python",
   "name": "python3"
  },
  "language_info": {
   "codemirror_mode": {
    "name": "ipython",
    "version": 3
   },
   "file_extension": ".py",
   "mimetype": "text/x-python",
   "name": "python",
   "nbconvert_exporter": "python",
   "pygments_lexer": "ipython3",
   "version": "3.11.4"
  },
  "orig_nbformat": 4
 },
 "nbformat": 4,
 "nbformat_minor": 2
}
