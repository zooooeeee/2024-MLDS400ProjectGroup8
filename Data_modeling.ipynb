{
 "cells": [
  {
   "cell_type": "code",
   "execution_count": 1,
   "metadata": {},
   "outputs": [
    {
     "name": "stdout",
     "output_type": "stream",
     "text": [
      "Requirement already satisfied: imbalanced-learn in /Users/xeniavrettakou/anaconda3/lib/python3.11/site-packages (0.11.0)\n",
      "Requirement already satisfied: scikit-learn in /Users/xeniavrettakou/anaconda3/lib/python3.11/site-packages (1.3.2)\n",
      "Requirement already satisfied: numpy>=1.17.3 in /Users/xeniavrettakou/anaconda3/lib/python3.11/site-packages (from imbalanced-learn) (1.24.3)\n",
      "Requirement already satisfied: scipy>=1.5.0 in /Users/xeniavrettakou/anaconda3/lib/python3.11/site-packages (from imbalanced-learn) (1.10.1)\n",
      "Requirement already satisfied: joblib>=1.1.1 in /Users/xeniavrettakou/anaconda3/lib/python3.11/site-packages (from imbalanced-learn) (1.2.0)\n",
      "Requirement already satisfied: threadpoolctl>=2.0.0 in /Users/xeniavrettakou/anaconda3/lib/python3.11/site-packages (from imbalanced-learn) (2.2.0)\n",
      "Note: you may need to restart the kernel to use updated packages.\n"
     ]
    }
   ],
   "source": [
    "pip install imbalanced-learn scikit-learn"
   ]
  },
  {
   "cell_type": "code",
   "execution_count": 2,
   "metadata": {},
   "outputs": [],
   "source": [
    "import pandas as pd \n",
    "import numpy as np \n",
    "import matplotlib.pyplot as plt\n",
    "import seaborn as sns\n",
    "from rpy2 import robjects as ro\n",
    "from rpy2.robjects import pandas2ri"
   ]
  },
  {
   "cell_type": "code",
   "execution_count": 3,
   "metadata": {},
   "outputs": [],
   "source": [
    "# Read in Elsie's new dataset \n",
    "df_new = pd.read_csv(\"df_1\")"
   ]
  },
  {
   "cell_type": "code",
   "execution_count": 4,
   "metadata": {},
   "outputs": [],
   "source": [
    "# Assuming df_1 is your DataFrame and usefulfeature contains the feature names\n",
    "usefulfeature = ['BRAND', 'DEPT', 'CITY', 'STATE', 'COUNTY',\n",
    "                'BRAND_dummy', 'BRAND_dummy_Cheap', 'BRAND_dummy_Affordable',\n",
    "                'BRAND_dummy_Luxury', 'Returns', 'Salemonth', 'amt_diff',\n",
    "                'retail_diff']"
   ]
  },
  {
   "cell_type": "markdown",
   "metadata": {},
   "source": [
    "## Final Feature Engineering "
   ]
  },
  {
   "cell_type": "code",
   "execution_count": 5,
   "metadata": {},
   "outputs": [],
   "source": [
    "# Convert 'State' into dummy variables\n",
    "df_dummies = pd.get_dummies(df_new['STATE'])\n"
   ]
  },
  {
   "cell_type": "markdown",
   "metadata": {},
   "source": [
    "## Selecting a Random Subset of the Data"
   ]
  },
  {
   "cell_type": "code",
   "execution_count": 6,
   "metadata": {},
   "outputs": [
    {
     "data": {
      "text/plain": [
       "(65820533, 23)"
      ]
     },
     "execution_count": 6,
     "metadata": {},
     "output_type": "execute_result"
    }
   ],
   "source": [
    "df_new.shape"
   ]
  },
  {
   "cell_type": "code",
   "execution_count": 7,
   "metadata": {},
   "outputs": [
    {
     "data": {
      "text/plain": [
       "4967908"
      ]
     },
     "execution_count": 7,
     "metadata": {},
     "output_type": "execute_result"
    }
   ],
   "source": [
    "df_new[df_new['Returns'] == 1].value_counts().sum()"
   ]
  },
  {
   "cell_type": "code",
   "execution_count": 8,
   "metadata": {},
   "outputs": [
    {
     "data": {
      "text/html": [
       "<div>\n",
       "<style scoped>\n",
       "    .dataframe tbody tr th:only-of-type {\n",
       "        vertical-align: middle;\n",
       "    }\n",
       "\n",
       "    .dataframe tbody tr th {\n",
       "        vertical-align: top;\n",
       "    }\n",
       "\n",
       "    .dataframe thead th {\n",
       "        text-align: right;\n",
       "    }\n",
       "</style>\n",
       "<table border=\"1\" class=\"dataframe\">\n",
       "  <thead>\n",
       "    <tr style=\"text-align: right;\">\n",
       "      <th></th>\n",
       "      <th>Unnamed: 0.1</th>\n",
       "      <th>Unnamed: 0</th>\n",
       "      <th>SKU</th>\n",
       "      <th>STYPE</th>\n",
       "      <th>STORE</th>\n",
       "      <th>ORGPRICE</th>\n",
       "      <th>QUANTITY</th>\n",
       "      <th>SALEDATE</th>\n",
       "      <th>AMT</th>\n",
       "      <th>BRAND</th>\n",
       "      <th>...</th>\n",
       "      <th>STATE</th>\n",
       "      <th>COUNTY</th>\n",
       "      <th>BRAND_dummy</th>\n",
       "      <th>BRAND_dummy_Cheap</th>\n",
       "      <th>BRAND_dummy_Affordable</th>\n",
       "      <th>BRAND_dummy_Luxury</th>\n",
       "      <th>Returns</th>\n",
       "      <th>Salemonth</th>\n",
       "      <th>amt_diff</th>\n",
       "      <th>retail_diff</th>\n",
       "    </tr>\n",
       "  </thead>\n",
       "  <tbody>\n",
       "    <tr>\n",
       "      <th>0</th>\n",
       "      <td>0</td>\n",
       "      <td>0</td>\n",
       "      <td>3</td>\n",
       "      <td>P</td>\n",
       "      <td>202</td>\n",
       "      <td>30.0</td>\n",
       "      <td>1</td>\n",
       "      <td>2005-01-18</td>\n",
       "      <td>0.0</td>\n",
       "      <td>TURNBURY</td>\n",
       "      <td>...</td>\n",
       "      <td>FL</td>\n",
       "      <td>Hillsborough County</td>\n",
       "      <td>Affordable</td>\n",
       "      <td>0</td>\n",
       "      <td>1</td>\n",
       "      <td>0</td>\n",
       "      <td>0</td>\n",
       "      <td>January</td>\n",
       "      <td>-30.0</td>\n",
       "      <td>410.0</td>\n",
       "    </tr>\n",
       "    <tr>\n",
       "      <th>1</th>\n",
       "      <td>1</td>\n",
       "      <td>1</td>\n",
       "      <td>3</td>\n",
       "      <td>R</td>\n",
       "      <td>202</td>\n",
       "      <td>30.0</td>\n",
       "      <td>1</td>\n",
       "      <td>2005-01-29</td>\n",
       "      <td>0.0</td>\n",
       "      <td>TURNBURY</td>\n",
       "      <td>...</td>\n",
       "      <td>FL</td>\n",
       "      <td>Hillsborough County</td>\n",
       "      <td>Affordable</td>\n",
       "      <td>0</td>\n",
       "      <td>1</td>\n",
       "      <td>0</td>\n",
       "      <td>1</td>\n",
       "      <td>January</td>\n",
       "      <td>-30.0</td>\n",
       "      <td>410.0</td>\n",
       "    </tr>\n",
       "    <tr>\n",
       "      <th>2</th>\n",
       "      <td>2</td>\n",
       "      <td>2</td>\n",
       "      <td>450</td>\n",
       "      <td>P</td>\n",
       "      <td>202</td>\n",
       "      <td>6.0</td>\n",
       "      <td>1</td>\n",
       "      <td>2005-07-10</td>\n",
       "      <td>6.0</td>\n",
       "      <td>INTERNAT</td>\n",
       "      <td>...</td>\n",
       "      <td>FL</td>\n",
       "      <td>Hillsborough County</td>\n",
       "      <td>Cheap</td>\n",
       "      <td>1</td>\n",
       "      <td>0</td>\n",
       "      <td>0</td>\n",
       "      <td>0</td>\n",
       "      <td>July</td>\n",
       "      <td>0.0</td>\n",
       "      <td>-3.0</td>\n",
       "    </tr>\n",
       "    <tr>\n",
       "      <th>3</th>\n",
       "      <td>3</td>\n",
       "      <td>3</td>\n",
       "      <td>450</td>\n",
       "      <td>P</td>\n",
       "      <td>202</td>\n",
       "      <td>6.0</td>\n",
       "      <td>1</td>\n",
       "      <td>2005-06-06</td>\n",
       "      <td>6.0</td>\n",
       "      <td>INTERNAT</td>\n",
       "      <td>...</td>\n",
       "      <td>FL</td>\n",
       "      <td>Hillsborough County</td>\n",
       "      <td>Cheap</td>\n",
       "      <td>1</td>\n",
       "      <td>0</td>\n",
       "      <td>0</td>\n",
       "      <td>0</td>\n",
       "      <td>June</td>\n",
       "      <td>0.0</td>\n",
       "      <td>-3.0</td>\n",
       "    </tr>\n",
       "    <tr>\n",
       "      <th>4</th>\n",
       "      <td>4</td>\n",
       "      <td>4</td>\n",
       "      <td>450</td>\n",
       "      <td>P</td>\n",
       "      <td>202</td>\n",
       "      <td>6.0</td>\n",
       "      <td>1</td>\n",
       "      <td>2005-07-29</td>\n",
       "      <td>6.0</td>\n",
       "      <td>INTERNAT</td>\n",
       "      <td>...</td>\n",
       "      <td>FL</td>\n",
       "      <td>Hillsborough County</td>\n",
       "      <td>Cheap</td>\n",
       "      <td>1</td>\n",
       "      <td>0</td>\n",
       "      <td>0</td>\n",
       "      <td>0</td>\n",
       "      <td>July</td>\n",
       "      <td>0.0</td>\n",
       "      <td>-3.0</td>\n",
       "    </tr>\n",
       "  </tbody>\n",
       "</table>\n",
       "<p>5 rows × 23 columns</p>\n",
       "</div>"
      ],
      "text/plain": [
       "   Unnamed: 0.1  Unnamed: 0  SKU STYPE  STORE  ORGPRICE  QUANTITY    SALEDATE  \\\n",
       "0             0           0    3     P    202      30.0         1  2005-01-18   \n",
       "1             1           1    3     R    202      30.0         1  2005-01-29   \n",
       "2             2           2  450     P    202       6.0         1  2005-07-10   \n",
       "3             3           3  450     P    202       6.0         1  2005-06-06   \n",
       "4             4           4  450     P    202       6.0         1  2005-07-29   \n",
       "\n",
       "   AMT      BRAND  ...  STATE               COUNTY BRAND_dummy  \\\n",
       "0  0.0  TURNBURY   ...     FL  Hillsborough County  Affordable   \n",
       "1  0.0  TURNBURY   ...     FL  Hillsborough County  Affordable   \n",
       "2  6.0  INTERNAT   ...     FL  Hillsborough County       Cheap   \n",
       "3  6.0  INTERNAT   ...     FL  Hillsborough County       Cheap   \n",
       "4  6.0  INTERNAT   ...     FL  Hillsborough County       Cheap   \n",
       "\n",
       "  BRAND_dummy_Cheap BRAND_dummy_Affordable BRAND_dummy_Luxury  Returns  \\\n",
       "0                 0                      1                  0        0   \n",
       "1                 0                      1                  0        1   \n",
       "2                 1                      0                  0        0   \n",
       "3                 1                      0                  0        0   \n",
       "4                 1                      0                  0        0   \n",
       "\n",
       "   Salemonth  amt_diff  retail_diff  \n",
       "0    January     -30.0        410.0  \n",
       "1    January     -30.0        410.0  \n",
       "2       July       0.0         -3.0  \n",
       "3       June       0.0         -3.0  \n",
       "4       July       0.0         -3.0  \n",
       "\n",
       "[5 rows x 23 columns]"
      ]
     },
     "execution_count": 8,
     "metadata": {},
     "output_type": "execute_result"
    }
   ],
   "source": [
    "df_new.head()"
   ]
  },
  {
   "cell_type": "code",
   "execution_count": 9,
   "metadata": {},
   "outputs": [
    {
     "data": {
      "text/plain": [
       "Unnamed: 0.1              0\n",
       "Unnamed: 0                0\n",
       "SKU                       0\n",
       "STYPE                     0\n",
       "STORE                     0\n",
       "ORGPRICE                  0\n",
       "QUANTITY                  0\n",
       "SALEDATE                  0\n",
       "AMT                       0\n",
       "BRAND                     0\n",
       "DEPT                      0\n",
       "RETAIL                    0\n",
       "CITY                      0\n",
       "STATE                     0\n",
       "COUNTY                    0\n",
       "BRAND_dummy               0\n",
       "BRAND_dummy_Cheap         0\n",
       "BRAND_dummy_Affordable    0\n",
       "BRAND_dummy_Luxury        0\n",
       "Returns                   0\n",
       "Salemonth                 0\n",
       "amt_diff                  0\n",
       "retail_diff               0\n",
       "dtype: int64"
      ]
     },
     "execution_count": 9,
     "metadata": {},
     "output_type": "execute_result"
    }
   ],
   "source": [
    "df_new.isna().sum()"
   ]
  },
  {
   "cell_type": "code",
   "execution_count": 10,
   "metadata": {},
   "outputs": [],
   "source": [
    "# Drop uneccessary columns \n",
    "# Assuming df is your DataFrame and columns_to_drop is a list of column names to be dropped\n",
    "columns_to_drop = ['Unnamed: 0.1', 'Unnamed: 0']\n",
    "\n",
    "# Drop the specified columns\n",
    "df_new = df_new.drop(columns=columns_to_drop, inplace=False)"
   ]
  },
  {
   "cell_type": "code",
   "execution_count": 11,
   "metadata": {},
   "outputs": [
    {
     "name": "stdout",
     "output_type": "stream",
     "text": [
      "            min        max  nunique\n",
      "year                               \n",
      "2004 2004-08-01 2004-12-31      151\n",
      "2005 2005-01-01 2005-08-27      238\n"
     ]
    }
   ],
   "source": [
    "# Convert 'saledate' to datetime format if it's not already\n",
    "df_new['SALEDATE'] = pd.to_datetime(df_new['SALEDATE'])\n",
    "\n",
    "# Extract year from 'saledate'\n",
    "df_new['year'] = df_new['SALEDATE'].dt.year\n",
    "\n",
    "# Calculate the range and total number of days for each year\n",
    "result = df_new.groupby('year')['SALEDATE'].agg(['min', 'max', 'nunique'])\n",
    "\n",
    "# Display the result\n",
    "print(result)"
   ]
  },
  {
   "cell_type": "markdown",
   "metadata": {},
   "source": [
    "Based on the result we want to keep one year worth of data from 2004-08-01 to 2005-08-01"
   ]
  },
  {
   "cell_type": "code",
   "execution_count": 12,
   "metadata": {},
   "outputs": [],
   "source": [
    "# Before I drop values I concatenate the dummy variables with the original DataFrame\n",
    "df_new = pd.concat([df_new, df_dummies], axis=1)\n",
    "\n",
    "start_date = '2004-08-01'\n",
    "end_date = '2005-08-01'\n",
    "time_based_subset = df_new[(df_new['SALEDATE'] >= start_date) & (df_new['SALEDATE'] <= end_date)]"
   ]
  },
  {
   "cell_type": "code",
   "execution_count": 13,
   "metadata": {},
   "outputs": [
    {
     "data": {
      "text/plain": [
       "(58743194, 51)"
      ]
     },
     "execution_count": 13,
     "metadata": {},
     "output_type": "execute_result"
    }
   ],
   "source": [
    "# Before we took a subset we had 65820533 obs now 58743194 = 7077339\n",
    "time_based_subset.shape"
   ]
  },
  {
   "cell_type": "code",
   "execution_count": 14,
   "metadata": {},
   "outputs": [
    {
     "name": "stderr",
     "output_type": "stream",
     "text": [
      "/var/folders/48/hmcrzlgx0pd5b5ct_wm842_00000gn/T/ipykernel_868/2973287997.py:9: SettingWithCopyWarning: \n",
      "A value is trying to be set on a copy of a slice from a DataFrame.\n",
      "Try using .loc[row_indexer,col_indexer] = value instead\n",
      "\n",
      "See the caveats in the documentation: https://pandas.pydata.org/pandas-docs/stable/user_guide/indexing.html#returning-a-view-versus-a-copy\n",
      "  time_based_subset['Salemonth'] = time_based_subset['Salemonth'].apply(month_name_to_number)\n"
     ]
    }
   ],
   "source": [
    "def month_name_to_number(month_name):\n",
    "    month_dict = {\n",
    "        'January': 1, 'February': 2, 'March': 3, 'April': 4, 'May': 5, 'June': 6,\n",
    "        'July': 7, 'August': 8, 'September': 9, 'October': 10, 'November': 11, 'December': 12\n",
    "    }\n",
    "    return month_dict.get(month_name)\n",
    "\n",
    "# Apply the custom function to the 'Salemonth' column\n",
    "time_based_subset['Salemonth'] = time_based_subset['Salemonth'].apply(month_name_to_number)\n"
   ]
  },
  {
   "cell_type": "code",
   "execution_count": 15,
   "metadata": {},
   "outputs": [
    {
     "name": "stdout",
     "output_type": "stream",
     "text": [
      "Total unique months: 12\n"
     ]
    }
   ],
   "source": [
    "# Check to see that the sales months were correctly applied \n",
    "total_unique_months = time_based_subset['Salemonth'].nunique()\n",
    "\n",
    "print(f'Total unique months: {total_unique_months}')\n"
   ]
  },
  {
   "cell_type": "code",
   "execution_count": 16,
   "metadata": {},
   "outputs": [
    {
     "name": "stderr",
     "output_type": "stream",
     "text": [
      "/var/folders/48/hmcrzlgx0pd5b5ct_wm842_00000gn/T/ipykernel_868/2555102322.py:5: SettingWithCopyWarning: \n",
      "A value is trying to be set on a copy of a slice from a DataFrame.\n",
      "Try using .loc[row_indexer,col_indexer] = value instead\n",
      "\n",
      "See the caveats in the documentation: https://pandas.pydata.org/pandas-docs/stable/user_guide/indexing.html#returning-a-view-versus-a-copy\n",
      "  time_based_subset[convert_to_factor] = time_based_subset[convert_to_factor].astype('category')\n"
     ]
    }
   ],
   "source": [
    "# Specify columns to convert to categorical\n",
    "convert_to_factor = ['Salemonth', 'STORE','COUNTY']\n",
    "\n",
    "# Convert selected columns to categorical\n",
    "time_based_subset[convert_to_factor] = time_based_subset[convert_to_factor].astype('category')\n"
   ]
  },
  {
   "cell_type": "markdown",
   "metadata": {},
   "source": [
    "## Treat the State Dummy variables"
   ]
  },
  {
   "cell_type": "code",
   "execution_count": 17,
   "metadata": {},
   "outputs": [
    {
     "name": "stdout",
     "output_type": "stream",
     "text": [
      "Percentage of returns for all states: 7.53%\n"
     ]
    }
   ],
   "source": [
    "# Find the for the average return rate in total\n",
    "total_returns = time_based_subset['Returns'].sum()\n",
    "total_observations = len(time_based_subset)\n",
    "total_percentage_returns = (total_returns / total_observations) * 100\n",
    "print(f'Percentage of returns for all states: {total_percentage_returns:.2f}%')"
   ]
  },
  {
   "cell_type": "code",
   "execution_count": 18,
   "metadata": {},
   "outputs": [
    {
     "data": {
      "text/plain": [
       "0    FL\n",
       "1    FL\n",
       "2    FL\n",
       "3    FL\n",
       "4    FL\n",
       "5    FL\n",
       "6    FL\n",
       "7    FL\n",
       "8    FL\n",
       "9    FL\n",
       "Name: STATE, dtype: object"
      ]
     },
     "execution_count": 18,
     "metadata": {},
     "output_type": "execute_result"
    }
   ],
   "source": [
    "time_based_subset['STATE'].head(10)"
   ]
  },
  {
   "cell_type": "code",
   "execution_count": 19,
   "metadata": {},
   "outputs": [],
   "source": [
    "# Calculate the mean of 'Returns' for each state\n",
    "StateReturnRate = time_based_subset.groupby('STATE')['Returns'].mean().reset_index()"
   ]
  },
  {
   "cell_type": "code",
   "execution_count": 20,
   "metadata": {},
   "outputs": [],
   "source": [
    "# Merge the binary column back into the original DataFrame\n",
    "time_based_subset = pd.merge(time_based_subset, StateReturnRate[['STATE', 'Returns']], on='STATE', how='left')"
   ]
  },
  {
   "cell_type": "code",
   "execution_count": 21,
   "metadata": {},
   "outputs": [],
   "source": [
    "time_based_subset.rename(columns={'Returns_y': 'ReturnRate'}, inplace=True)\n",
    "time_based_subset.rename(columns={'Returns_x': 'Returns'}, inplace=True)"
   ]
  },
  {
   "cell_type": "code",
   "execution_count": 22,
   "metadata": {},
   "outputs": [
    {
     "data": {
      "text/plain": [
       "Index(['SKU', 'STYPE', 'STORE', 'ORGPRICE', 'QUANTITY', 'SALEDATE', 'AMT',\n",
       "       'BRAND', 'DEPT', 'RETAIL', 'CITY', 'STATE', 'COUNTY', 'BRAND_dummy',\n",
       "       'BRAND_dummy_Cheap', 'BRAND_dummy_Affordable', 'BRAND_dummy_Luxury',\n",
       "       'Returns', 'Salemonth', 'amt_diff', 'retail_diff', 'year', 'AL', 'AR',\n",
       "       'AZ', 'CA', 'CO', 'FL', 'GA', 'IA', 'ID', 'IL', 'IN', 'KS', 'KY', 'LA',\n",
       "       'MO', 'MS', 'MT', 'NC', 'NE', 'NM', 'NV', 'OH', 'OK', 'SC', 'TN', 'TX',\n",
       "       'UT', 'VA', 'WY', 'ReturnRate'],\n",
       "      dtype='object')"
      ]
     },
     "execution_count": 22,
     "metadata": {},
     "output_type": "execute_result"
    }
   ],
   "source": [
    "time_based_subset.columns"
   ]
  },
  {
   "cell_type": "code",
   "execution_count": 23,
   "metadata": {},
   "outputs": [
    {
     "data": {
      "text/html": [
       "<div>\n",
       "<style scoped>\n",
       "    .dataframe tbody tr th:only-of-type {\n",
       "        vertical-align: middle;\n",
       "    }\n",
       "\n",
       "    .dataframe tbody tr th {\n",
       "        vertical-align: top;\n",
       "    }\n",
       "\n",
       "    .dataframe thead th {\n",
       "        text-align: right;\n",
       "    }\n",
       "</style>\n",
       "<table border=\"1\" class=\"dataframe\">\n",
       "  <thead>\n",
       "    <tr style=\"text-align: right;\">\n",
       "      <th></th>\n",
       "      <th>SKU</th>\n",
       "      <th>STYPE</th>\n",
       "      <th>STORE</th>\n",
       "      <th>ORGPRICE</th>\n",
       "      <th>QUANTITY</th>\n",
       "      <th>SALEDATE</th>\n",
       "      <th>AMT</th>\n",
       "      <th>BRAND</th>\n",
       "      <th>DEPT</th>\n",
       "      <th>RETAIL</th>\n",
       "      <th>...</th>\n",
       "      <th>NV</th>\n",
       "      <th>OH</th>\n",
       "      <th>OK</th>\n",
       "      <th>SC</th>\n",
       "      <th>TN</th>\n",
       "      <th>TX</th>\n",
       "      <th>UT</th>\n",
       "      <th>VA</th>\n",
       "      <th>WY</th>\n",
       "      <th>ReturnRate</th>\n",
       "    </tr>\n",
       "  </thead>\n",
       "  <tbody>\n",
       "    <tr>\n",
       "      <th>0</th>\n",
       "      <td>3</td>\n",
       "      <td>P</td>\n",
       "      <td>202</td>\n",
       "      <td>30.0</td>\n",
       "      <td>1</td>\n",
       "      <td>2005-01-18</td>\n",
       "      <td>0.0</td>\n",
       "      <td>TURNBURY</td>\n",
       "      <td>6505</td>\n",
       "      <td>440.0</td>\n",
       "      <td>...</td>\n",
       "      <td>0</td>\n",
       "      <td>0</td>\n",
       "      <td>0</td>\n",
       "      <td>0</td>\n",
       "      <td>0</td>\n",
       "      <td>0</td>\n",
       "      <td>0</td>\n",
       "      <td>0</td>\n",
       "      <td>0</td>\n",
       "      <td>0.075151</td>\n",
       "    </tr>\n",
       "    <tr>\n",
       "      <th>1</th>\n",
       "      <td>3</td>\n",
       "      <td>R</td>\n",
       "      <td>202</td>\n",
       "      <td>30.0</td>\n",
       "      <td>1</td>\n",
       "      <td>2005-01-29</td>\n",
       "      <td>0.0</td>\n",
       "      <td>TURNBURY</td>\n",
       "      <td>6505</td>\n",
       "      <td>440.0</td>\n",
       "      <td>...</td>\n",
       "      <td>0</td>\n",
       "      <td>0</td>\n",
       "      <td>0</td>\n",
       "      <td>0</td>\n",
       "      <td>0</td>\n",
       "      <td>0</td>\n",
       "      <td>0</td>\n",
       "      <td>0</td>\n",
       "      <td>0</td>\n",
       "      <td>0.075151</td>\n",
       "    </tr>\n",
       "    <tr>\n",
       "      <th>2</th>\n",
       "      <td>450</td>\n",
       "      <td>P</td>\n",
       "      <td>202</td>\n",
       "      <td>6.0</td>\n",
       "      <td>1</td>\n",
       "      <td>2005-07-10</td>\n",
       "      <td>6.0</td>\n",
       "      <td>INTERNAT</td>\n",
       "      <td>1202</td>\n",
       "      <td>3.0</td>\n",
       "      <td>...</td>\n",
       "      <td>0</td>\n",
       "      <td>0</td>\n",
       "      <td>0</td>\n",
       "      <td>0</td>\n",
       "      <td>0</td>\n",
       "      <td>0</td>\n",
       "      <td>0</td>\n",
       "      <td>0</td>\n",
       "      <td>0</td>\n",
       "      <td>0.075151</td>\n",
       "    </tr>\n",
       "    <tr>\n",
       "      <th>3</th>\n",
       "      <td>450</td>\n",
       "      <td>P</td>\n",
       "      <td>202</td>\n",
       "      <td>6.0</td>\n",
       "      <td>1</td>\n",
       "      <td>2005-06-06</td>\n",
       "      <td>6.0</td>\n",
       "      <td>INTERNAT</td>\n",
       "      <td>1202</td>\n",
       "      <td>3.0</td>\n",
       "      <td>...</td>\n",
       "      <td>0</td>\n",
       "      <td>0</td>\n",
       "      <td>0</td>\n",
       "      <td>0</td>\n",
       "      <td>0</td>\n",
       "      <td>0</td>\n",
       "      <td>0</td>\n",
       "      <td>0</td>\n",
       "      <td>0</td>\n",
       "      <td>0.075151</td>\n",
       "    </tr>\n",
       "    <tr>\n",
       "      <th>4</th>\n",
       "      <td>450</td>\n",
       "      <td>P</td>\n",
       "      <td>202</td>\n",
       "      <td>6.0</td>\n",
       "      <td>1</td>\n",
       "      <td>2005-07-29</td>\n",
       "      <td>6.0</td>\n",
       "      <td>INTERNAT</td>\n",
       "      <td>1202</td>\n",
       "      <td>3.0</td>\n",
       "      <td>...</td>\n",
       "      <td>0</td>\n",
       "      <td>0</td>\n",
       "      <td>0</td>\n",
       "      <td>0</td>\n",
       "      <td>0</td>\n",
       "      <td>0</td>\n",
       "      <td>0</td>\n",
       "      <td>0</td>\n",
       "      <td>0</td>\n",
       "      <td>0.075151</td>\n",
       "    </tr>\n",
       "  </tbody>\n",
       "</table>\n",
       "<p>5 rows × 52 columns</p>\n",
       "</div>"
      ],
      "text/plain": [
       "   SKU STYPE STORE  ORGPRICE  QUANTITY   SALEDATE  AMT      BRAND  DEPT  \\\n",
       "0    3     P   202      30.0         1 2005-01-18  0.0  TURNBURY   6505   \n",
       "1    3     R   202      30.0         1 2005-01-29  0.0  TURNBURY   6505   \n",
       "2  450     P   202       6.0         1 2005-07-10  6.0  INTERNAT   1202   \n",
       "3  450     P   202       6.0         1 2005-06-06  6.0  INTERNAT   1202   \n",
       "4  450     P   202       6.0         1 2005-07-29  6.0  INTERNAT   1202   \n",
       "\n",
       "   RETAIL  ... NV OH OK SC  TN  TX  UT  VA WY  ReturnRate  \n",
       "0   440.0  ...  0  0  0  0   0   0   0   0  0    0.075151  \n",
       "1   440.0  ...  0  0  0  0   0   0   0   0  0    0.075151  \n",
       "2     3.0  ...  0  0  0  0   0   0   0   0  0    0.075151  \n",
       "3     3.0  ...  0  0  0  0   0   0   0   0  0    0.075151  \n",
       "4     3.0  ...  0  0  0  0   0   0   0   0  0    0.075151  \n",
       "\n",
       "[5 rows x 52 columns]"
      ]
     },
     "execution_count": 23,
     "metadata": {},
     "output_type": "execute_result"
    }
   ],
   "source": [
    "time_based_subset.head()"
   ]
  },
  {
   "cell_type": "markdown",
   "metadata": {},
   "source": [
    "# Balancing Data "
   ]
  },
  {
   "cell_type": "code",
   "execution_count": 24,
   "metadata": {},
   "outputs": [
    {
     "name": "stdout",
     "output_type": "stream",
     "text": [
      "Requirement already satisfied: imbalanced-learn in /Users/xeniavrettakou/anaconda3/lib/python3.11/site-packages (0.11.0)\n",
      "Requirement already satisfied: numpy>=1.17.3 in /Users/xeniavrettakou/anaconda3/lib/python3.11/site-packages (from imbalanced-learn) (1.24.3)\n",
      "Requirement already satisfied: scipy>=1.5.0 in /Users/xeniavrettakou/anaconda3/lib/python3.11/site-packages (from imbalanced-learn) (1.10.1)\n",
      "Requirement already satisfied: scikit-learn>=1.0.2 in /Users/xeniavrettakou/anaconda3/lib/python3.11/site-packages (from imbalanced-learn) (1.3.2)\n",
      "Requirement already satisfied: joblib>=1.1.1 in /Users/xeniavrettakou/anaconda3/lib/python3.11/site-packages (from imbalanced-learn) (1.2.0)\n",
      "Requirement already satisfied: threadpoolctl>=2.0.0 in /Users/xeniavrettakou/anaconda3/lib/python3.11/site-packages (from imbalanced-learn) (2.2.0)\n",
      "Note: you may need to restart the kernel to use updated packages.\n"
     ]
    }
   ],
   "source": [
    "pip install imbalanced-learn"
   ]
  },
  {
   "cell_type": "code",
   "execution_count": 25,
   "metadata": {},
   "outputs": [],
   "source": [
    "from imblearn.over_sampling import SMOTE\n",
    "from sklearn.model_selection import train_test_split\n",
    "from sklearn.metrics import classification_report, accuracy_score, confusion_matrix\n",
    "from collections import Counter\n",
    "import pickle"
   ]
  },
  {
   "cell_type": "code",
   "execution_count": 26,
   "metadata": {},
   "outputs": [
    {
     "data": {
      "text/html": [
       "<div>\n",
       "<style scoped>\n",
       "    .dataframe tbody tr th:only-of-type {\n",
       "        vertical-align: middle;\n",
       "    }\n",
       "\n",
       "    .dataframe tbody tr th {\n",
       "        vertical-align: top;\n",
       "    }\n",
       "\n",
       "    .dataframe thead th {\n",
       "        text-align: right;\n",
       "    }\n",
       "</style>\n",
       "<table border=\"1\" class=\"dataframe\">\n",
       "  <thead>\n",
       "    <tr style=\"text-align: right;\">\n",
       "      <th></th>\n",
       "      <th>SKU</th>\n",
       "      <th>STYPE</th>\n",
       "      <th>STORE</th>\n",
       "      <th>ORGPRICE</th>\n",
       "      <th>QUANTITY</th>\n",
       "      <th>SALEDATE</th>\n",
       "      <th>AMT</th>\n",
       "      <th>BRAND</th>\n",
       "      <th>DEPT</th>\n",
       "      <th>RETAIL</th>\n",
       "      <th>...</th>\n",
       "      <th>NV</th>\n",
       "      <th>OH</th>\n",
       "      <th>OK</th>\n",
       "      <th>SC</th>\n",
       "      <th>TN</th>\n",
       "      <th>TX</th>\n",
       "      <th>UT</th>\n",
       "      <th>VA</th>\n",
       "      <th>WY</th>\n",
       "      <th>ReturnRate</th>\n",
       "    </tr>\n",
       "  </thead>\n",
       "  <tbody>\n",
       "    <tr>\n",
       "      <th>0</th>\n",
       "      <td>3</td>\n",
       "      <td>P</td>\n",
       "      <td>202</td>\n",
       "      <td>30.0</td>\n",
       "      <td>1</td>\n",
       "      <td>2005-01-18</td>\n",
       "      <td>0.0</td>\n",
       "      <td>TURNBURY</td>\n",
       "      <td>6505</td>\n",
       "      <td>440.0</td>\n",
       "      <td>...</td>\n",
       "      <td>0</td>\n",
       "      <td>0</td>\n",
       "      <td>0</td>\n",
       "      <td>0</td>\n",
       "      <td>0</td>\n",
       "      <td>0</td>\n",
       "      <td>0</td>\n",
       "      <td>0</td>\n",
       "      <td>0</td>\n",
       "      <td>0.075151</td>\n",
       "    </tr>\n",
       "    <tr>\n",
       "      <th>1</th>\n",
       "      <td>3</td>\n",
       "      <td>R</td>\n",
       "      <td>202</td>\n",
       "      <td>30.0</td>\n",
       "      <td>1</td>\n",
       "      <td>2005-01-29</td>\n",
       "      <td>0.0</td>\n",
       "      <td>TURNBURY</td>\n",
       "      <td>6505</td>\n",
       "      <td>440.0</td>\n",
       "      <td>...</td>\n",
       "      <td>0</td>\n",
       "      <td>0</td>\n",
       "      <td>0</td>\n",
       "      <td>0</td>\n",
       "      <td>0</td>\n",
       "      <td>0</td>\n",
       "      <td>0</td>\n",
       "      <td>0</td>\n",
       "      <td>0</td>\n",
       "      <td>0.075151</td>\n",
       "    </tr>\n",
       "    <tr>\n",
       "      <th>2</th>\n",
       "      <td>450</td>\n",
       "      <td>P</td>\n",
       "      <td>202</td>\n",
       "      <td>6.0</td>\n",
       "      <td>1</td>\n",
       "      <td>2005-07-10</td>\n",
       "      <td>6.0</td>\n",
       "      <td>INTERNAT</td>\n",
       "      <td>1202</td>\n",
       "      <td>3.0</td>\n",
       "      <td>...</td>\n",
       "      <td>0</td>\n",
       "      <td>0</td>\n",
       "      <td>0</td>\n",
       "      <td>0</td>\n",
       "      <td>0</td>\n",
       "      <td>0</td>\n",
       "      <td>0</td>\n",
       "      <td>0</td>\n",
       "      <td>0</td>\n",
       "      <td>0.075151</td>\n",
       "    </tr>\n",
       "    <tr>\n",
       "      <th>3</th>\n",
       "      <td>450</td>\n",
       "      <td>P</td>\n",
       "      <td>202</td>\n",
       "      <td>6.0</td>\n",
       "      <td>1</td>\n",
       "      <td>2005-06-06</td>\n",
       "      <td>6.0</td>\n",
       "      <td>INTERNAT</td>\n",
       "      <td>1202</td>\n",
       "      <td>3.0</td>\n",
       "      <td>...</td>\n",
       "      <td>0</td>\n",
       "      <td>0</td>\n",
       "      <td>0</td>\n",
       "      <td>0</td>\n",
       "      <td>0</td>\n",
       "      <td>0</td>\n",
       "      <td>0</td>\n",
       "      <td>0</td>\n",
       "      <td>0</td>\n",
       "      <td>0.075151</td>\n",
       "    </tr>\n",
       "    <tr>\n",
       "      <th>4</th>\n",
       "      <td>450</td>\n",
       "      <td>P</td>\n",
       "      <td>202</td>\n",
       "      <td>6.0</td>\n",
       "      <td>1</td>\n",
       "      <td>2005-07-29</td>\n",
       "      <td>6.0</td>\n",
       "      <td>INTERNAT</td>\n",
       "      <td>1202</td>\n",
       "      <td>3.0</td>\n",
       "      <td>...</td>\n",
       "      <td>0</td>\n",
       "      <td>0</td>\n",
       "      <td>0</td>\n",
       "      <td>0</td>\n",
       "      <td>0</td>\n",
       "      <td>0</td>\n",
       "      <td>0</td>\n",
       "      <td>0</td>\n",
       "      <td>0</td>\n",
       "      <td>0.075151</td>\n",
       "    </tr>\n",
       "  </tbody>\n",
       "</table>\n",
       "<p>5 rows × 52 columns</p>\n",
       "</div>"
      ],
      "text/plain": [
       "   SKU STYPE STORE  ORGPRICE  QUANTITY   SALEDATE  AMT      BRAND  DEPT  \\\n",
       "0    3     P   202      30.0         1 2005-01-18  0.0  TURNBURY   6505   \n",
       "1    3     R   202      30.0         1 2005-01-29  0.0  TURNBURY   6505   \n",
       "2  450     P   202       6.0         1 2005-07-10  6.0  INTERNAT   1202   \n",
       "3  450     P   202       6.0         1 2005-06-06  6.0  INTERNAT   1202   \n",
       "4  450     P   202       6.0         1 2005-07-29  6.0  INTERNAT   1202   \n",
       "\n",
       "   RETAIL  ... NV OH OK SC  TN  TX  UT  VA WY  ReturnRate  \n",
       "0   440.0  ...  0  0  0  0   0   0   0   0  0    0.075151  \n",
       "1   440.0  ...  0  0  0  0   0   0   0   0  0    0.075151  \n",
       "2     3.0  ...  0  0  0  0   0   0   0   0  0    0.075151  \n",
       "3     3.0  ...  0  0  0  0   0   0   0   0  0    0.075151  \n",
       "4     3.0  ...  0  0  0  0   0   0   0   0  0    0.075151  \n",
       "\n",
       "[5 rows x 52 columns]"
      ]
     },
     "execution_count": 26,
     "metadata": {},
     "output_type": "execute_result"
    }
   ],
   "source": [
    "time_based_subset.head()"
   ]
  },
  {
   "cell_type": "code",
   "execution_count": 27,
   "metadata": {},
   "outputs": [],
   "source": [
    "final_features = ['Salemonth', 'ORGPRICE', 'AMT',\n",
    "                'amt_diff', 'retail_diff', 'BRAND_dummy_Affordable','BRAND_dummy_Luxury', \n",
    "                 'ReturnRate', 'Returns']"
   ]
  },
  {
   "cell_type": "code",
   "execution_count": 28,
   "metadata": {},
   "outputs": [],
   "source": [
    "df_final = time_based_subset[final_features].copy()"
   ]
  },
  {
   "cell_type": "code",
   "execution_count": 29,
   "metadata": {},
   "outputs": [
    {
     "data": {
      "text/html": [
       "<div>\n",
       "<style scoped>\n",
       "    .dataframe tbody tr th:only-of-type {\n",
       "        vertical-align: middle;\n",
       "    }\n",
       "\n",
       "    .dataframe tbody tr th {\n",
       "        vertical-align: top;\n",
       "    }\n",
       "\n",
       "    .dataframe thead th {\n",
       "        text-align: right;\n",
       "    }\n",
       "</style>\n",
       "<table border=\"1\" class=\"dataframe\">\n",
       "  <thead>\n",
       "    <tr style=\"text-align: right;\">\n",
       "      <th></th>\n",
       "      <th>Salemonth</th>\n",
       "      <th>ORGPRICE</th>\n",
       "      <th>AMT</th>\n",
       "      <th>amt_diff</th>\n",
       "      <th>retail_diff</th>\n",
       "      <th>BRAND_dummy_Affordable</th>\n",
       "      <th>BRAND_dummy_Luxury</th>\n",
       "      <th>ReturnRate</th>\n",
       "      <th>Returns</th>\n",
       "    </tr>\n",
       "  </thead>\n",
       "  <tbody>\n",
       "    <tr>\n",
       "      <th>0</th>\n",
       "      <td>1</td>\n",
       "      <td>30.0</td>\n",
       "      <td>0.0</td>\n",
       "      <td>-30.0</td>\n",
       "      <td>410.0</td>\n",
       "      <td>1</td>\n",
       "      <td>0</td>\n",
       "      <td>0.075151</td>\n",
       "      <td>0</td>\n",
       "    </tr>\n",
       "    <tr>\n",
       "      <th>1</th>\n",
       "      <td>1</td>\n",
       "      <td>30.0</td>\n",
       "      <td>0.0</td>\n",
       "      <td>-30.0</td>\n",
       "      <td>410.0</td>\n",
       "      <td>1</td>\n",
       "      <td>0</td>\n",
       "      <td>0.075151</td>\n",
       "      <td>1</td>\n",
       "    </tr>\n",
       "    <tr>\n",
       "      <th>2</th>\n",
       "      <td>7</td>\n",
       "      <td>6.0</td>\n",
       "      <td>6.0</td>\n",
       "      <td>0.0</td>\n",
       "      <td>-3.0</td>\n",
       "      <td>0</td>\n",
       "      <td>0</td>\n",
       "      <td>0.075151</td>\n",
       "      <td>0</td>\n",
       "    </tr>\n",
       "    <tr>\n",
       "      <th>3</th>\n",
       "      <td>6</td>\n",
       "      <td>6.0</td>\n",
       "      <td>6.0</td>\n",
       "      <td>0.0</td>\n",
       "      <td>-3.0</td>\n",
       "      <td>0</td>\n",
       "      <td>0</td>\n",
       "      <td>0.075151</td>\n",
       "      <td>0</td>\n",
       "    </tr>\n",
       "    <tr>\n",
       "      <th>4</th>\n",
       "      <td>7</td>\n",
       "      <td>6.0</td>\n",
       "      <td>6.0</td>\n",
       "      <td>0.0</td>\n",
       "      <td>-3.0</td>\n",
       "      <td>0</td>\n",
       "      <td>0</td>\n",
       "      <td>0.075151</td>\n",
       "      <td>0</td>\n",
       "    </tr>\n",
       "  </tbody>\n",
       "</table>\n",
       "</div>"
      ],
      "text/plain": [
       "  Salemonth  ORGPRICE  AMT  amt_diff  retail_diff  BRAND_dummy_Affordable  \\\n",
       "0         1      30.0  0.0     -30.0        410.0                       1   \n",
       "1         1      30.0  0.0     -30.0        410.0                       1   \n",
       "2         7       6.0  6.0       0.0         -3.0                       0   \n",
       "3         6       6.0  6.0       0.0         -3.0                       0   \n",
       "4         7       6.0  6.0       0.0         -3.0                       0   \n",
       "\n",
       "   BRAND_dummy_Luxury  ReturnRate  Returns  \n",
       "0                   0    0.075151        0  \n",
       "1                   0    0.075151        1  \n",
       "2                   0    0.075151        0  \n",
       "3                   0    0.075151        0  \n",
       "4                   0    0.075151        0  "
      ]
     },
     "execution_count": 29,
     "metadata": {},
     "output_type": "execute_result"
    }
   ],
   "source": [
    "df_final.head()"
   ]
  },
  {
   "cell_type": "code",
   "execution_count": 30,
   "metadata": {},
   "outputs": [
    {
     "data": {
      "text/plain": [
       "Salemonth                 category\n",
       "ORGPRICE                   float64\n",
       "AMT                        float64\n",
       "amt_diff                   float64\n",
       "retail_diff                float64\n",
       "BRAND_dummy_Affordable       int64\n",
       "BRAND_dummy_Luxury           int64\n",
       "ReturnRate                 float64\n",
       "Returns                      int64\n",
       "dtype: object"
      ]
     },
     "execution_count": 30,
     "metadata": {},
     "output_type": "execute_result"
    }
   ],
   "source": [
    "df_final.dtypes"
   ]
  },
  {
   "cell_type": "code",
   "execution_count": 31,
   "metadata": {},
   "outputs": [
    {
     "data": {
      "text/plain": [
       "Index(['Salemonth', 'ORGPRICE', 'AMT', 'amt_diff', 'retail_diff',\n",
       "       'BRAND_dummy_Affordable', 'BRAND_dummy_Luxury', 'ReturnRate',\n",
       "       'Returns'],\n",
       "      dtype='object')"
      ]
     },
     "execution_count": 31,
     "metadata": {},
     "output_type": "execute_result"
    }
   ],
   "source": [
    "df_final.columns"
   ]
  },
  {
   "cell_type": "code",
   "execution_count": 32,
   "metadata": {},
   "outputs": [
    {
     "name": "stdout",
     "output_type": "stream",
     "text": [
      "         Salemonth  ORGPRICE     AMT  amt_diff  retail_diff  \\\n",
      "52416796         7     27.99   27.99       0.0       -14.00   \n",
      "8737932         12     20.00   20.00       0.0         0.00   \n",
      "50204438         5      7.00    7.00       0.0         0.00   \n",
      "38732071        10     22.50   21.00      -1.5         0.00   \n",
      "24250497        10     50.50   22.00     -28.5       -27.50   \n",
      "...            ...       ...     ...       ...          ...   \n",
      "13101276         5     30.00   30.00       0.0       -15.00   \n",
      "35736111        10     18.00   14.00      -4.0       -11.00   \n",
      "342172           5    138.00  138.00       0.0      -103.50   \n",
      "21186853         7     58.00   56.00      -2.0       -30.00   \n",
      "51507379         7    179.00  179.00       0.0      -139.01   \n",
      "\n",
      "          BRAND_dummy_Affordable  BRAND_dummy_Luxury  ReturnRate  Returns  \n",
      "52416796                       1                   0    0.063171        0  \n",
      "8737932                        1                   0    0.065060        0  \n",
      "50204438                       0                   0    0.073191        0  \n",
      "38732071                       1                   0    0.075151        0  \n",
      "24250497                       0                   1    0.075738        0  \n",
      "...                          ...                 ...         ...      ...  \n",
      "13101276                       1                   0    0.073191        0  \n",
      "35736111                       1                   0    0.079782        0  \n",
      "342172                         0                   1    0.075151        0  \n",
      "21186853                       0                   1    0.065060        0  \n",
      "51507379                       0                   1    0.074859        0  \n",
      "\n",
      "[100000 rows x 9 columns]\n"
     ]
    }
   ],
   "source": [
    "# Pick a random subset of 100k\n",
    "subset_size = 100000\n",
    "\n",
    "# Use the sample method to get a random subset\n",
    "random_subset = df_final.sample(n=subset_size, random_state=42)  # Setting a random seed for reproducibility\n",
    "\n",
    "# Print or further process the random subset\n",
    "print(random_subset)"
   ]
  },
  {
   "cell_type": "code",
   "execution_count": 33,
   "metadata": {},
   "outputs": [],
   "source": [
    "# Split the dataset into 80% training and 20% testing\n",
    "train_set, test_set = train_test_split(random_subset, test_size=0.2, random_state=42)"
   ]
  },
  {
   "cell_type": "code",
   "execution_count": 34,
   "metadata": {},
   "outputs": [],
   "source": [
    "# Separate features (X) and target variable (y)\n",
    "X_test = test_set.drop('Returns', axis=1)\n",
    "y_test = test_set['Returns']"
   ]
  },
  {
   "cell_type": "code",
   "execution_count": 35,
   "metadata": {},
   "outputs": [],
   "source": [
    "# From the train set keep all the Returns \n",
    "train_set_return=train_set[train_set['Returns']==1]"
   ]
  },
  {
   "cell_type": "code",
   "execution_count": 36,
   "metadata": {},
   "outputs": [],
   "source": [
    "# Filter the training set where Returns is 0\n",
    "subset_puchases = train_set.query('Returns == 0')\n",
    "\n",
    "# Randomly select 15,000 observations from the subset \n",
    "train_set_purchase = subset_puchases.sample(n=15000, random_state=42)"
   ]
  },
  {
   "cell_type": "code",
   "execution_count": 37,
   "metadata": {},
   "outputs": [
    {
     "data": {
      "text/plain": [
       "(5983, 9)"
      ]
     },
     "execution_count": 37,
     "metadata": {},
     "output_type": "execute_result"
    }
   ],
   "source": [
    "train_set_return.shape"
   ]
  },
  {
   "cell_type": "code",
   "execution_count": 38,
   "metadata": {},
   "outputs": [
    {
     "data": {
      "text/plain": [
       "(15000, 9)"
      ]
     },
     "execution_count": 38,
     "metadata": {},
     "output_type": "execute_result"
    }
   ],
   "source": [
    "train_set_purchase.shape"
   ]
  },
  {
   "cell_type": "code",
   "execution_count": 39,
   "metadata": {},
   "outputs": [],
   "source": [
    "# Concatenate vertically (stacking rows)\n",
    "train_set_combined = pd.concat([train_set_return, train_set_purchase], axis=0, ignore_index=True)"
   ]
  },
  {
   "cell_type": "code",
   "execution_count": 40,
   "metadata": {},
   "outputs": [],
   "source": [
    "# Separate features (X) and target variable (y)\n",
    "X_train = train_set_combined.drop('Returns', axis=1)\n",
    "y_train = train_set_combined['Returns']"
   ]
  },
  {
   "cell_type": "code",
   "execution_count": 41,
   "metadata": {},
   "outputs": [
    {
     "data": {
      "text/plain": [
       "Salemonth                 category\n",
       "ORGPRICE                   float64\n",
       "AMT                        float64\n",
       "amt_diff                   float64\n",
       "retail_diff                float64\n",
       "BRAND_dummy_Affordable       int64\n",
       "BRAND_dummy_Luxury           int64\n",
       "ReturnRate                 float64\n",
       "Returns                      int64\n",
       "dtype: object"
      ]
     },
     "execution_count": 41,
     "metadata": {},
     "output_type": "execute_result"
    }
   ],
   "source": [
    "random_subset.dtypes"
   ]
  },
  {
   "cell_type": "code",
   "execution_count": 42,
   "metadata": {},
   "outputs": [
    {
     "data": {
      "text/html": [
       "<div>\n",
       "<style scoped>\n",
       "    .dataframe tbody tr th:only-of-type {\n",
       "        vertical-align: middle;\n",
       "    }\n",
       "\n",
       "    .dataframe tbody tr th {\n",
       "        vertical-align: top;\n",
       "    }\n",
       "\n",
       "    .dataframe thead th {\n",
       "        text-align: right;\n",
       "    }\n",
       "</style>\n",
       "<table border=\"1\" class=\"dataframe\">\n",
       "  <thead>\n",
       "    <tr style=\"text-align: right;\">\n",
       "      <th></th>\n",
       "      <th>Salemonth</th>\n",
       "      <th>ORGPRICE</th>\n",
       "      <th>AMT</th>\n",
       "      <th>amt_diff</th>\n",
       "      <th>retail_diff</th>\n",
       "      <th>BRAND_dummy_Affordable</th>\n",
       "      <th>BRAND_dummy_Luxury</th>\n",
       "      <th>ReturnRate</th>\n",
       "    </tr>\n",
       "  </thead>\n",
       "  <tbody>\n",
       "    <tr>\n",
       "      <th>0</th>\n",
       "      <td>7</td>\n",
       "      <td>79.50</td>\n",
       "      <td>79.50</td>\n",
       "      <td>0.00</td>\n",
       "      <td>-39.75</td>\n",
       "      <td>0</td>\n",
       "      <td>1</td>\n",
       "      <td>0.081596</td>\n",
       "    </tr>\n",
       "    <tr>\n",
       "      <th>1</th>\n",
       "      <td>1</td>\n",
       "      <td>18.75</td>\n",
       "      <td>12.50</td>\n",
       "      <td>-6.25</td>\n",
       "      <td>-6.25</td>\n",
       "      <td>1</td>\n",
       "      <td>0</td>\n",
       "      <td>0.085262</td>\n",
       "    </tr>\n",
       "    <tr>\n",
       "      <th>2</th>\n",
       "      <td>8</td>\n",
       "      <td>14.50</td>\n",
       "      <td>14.50</td>\n",
       "      <td>0.00</td>\n",
       "      <td>0.00</td>\n",
       "      <td>0</td>\n",
       "      <td>0</td>\n",
       "      <td>0.084576</td>\n",
       "    </tr>\n",
       "    <tr>\n",
       "      <th>3</th>\n",
       "      <td>2</td>\n",
       "      <td>34.00</td>\n",
       "      <td>34.00</td>\n",
       "      <td>0.00</td>\n",
       "      <td>-24.01</td>\n",
       "      <td>1</td>\n",
       "      <td>0</td>\n",
       "      <td>0.073191</td>\n",
       "    </tr>\n",
       "    <tr>\n",
       "      <th>4</th>\n",
       "      <td>2</td>\n",
       "      <td>22.00</td>\n",
       "      <td>20.00</td>\n",
       "      <td>-2.00</td>\n",
       "      <td>-2.00</td>\n",
       "      <td>1</td>\n",
       "      <td>0</td>\n",
       "      <td>0.073191</td>\n",
       "    </tr>\n",
       "    <tr>\n",
       "      <th>...</th>\n",
       "      <td>...</td>\n",
       "      <td>...</td>\n",
       "      <td>...</td>\n",
       "      <td>...</td>\n",
       "      <td>...</td>\n",
       "      <td>...</td>\n",
       "      <td>...</td>\n",
       "      <td>...</td>\n",
       "    </tr>\n",
       "    <tr>\n",
       "      <th>20978</th>\n",
       "      <td>11</td>\n",
       "      <td>19.50</td>\n",
       "      <td>18.50</td>\n",
       "      <td>-1.00</td>\n",
       "      <td>-1.00</td>\n",
       "      <td>1</td>\n",
       "      <td>0</td>\n",
       "      <td>0.074856</td>\n",
       "    </tr>\n",
       "    <tr>\n",
       "      <th>20979</th>\n",
       "      <td>9</td>\n",
       "      <td>110.25</td>\n",
       "      <td>60.00</td>\n",
       "      <td>-50.25</td>\n",
       "      <td>-95.25</td>\n",
       "      <td>0</td>\n",
       "      <td>1</td>\n",
       "      <td>0.073191</td>\n",
       "    </tr>\n",
       "    <tr>\n",
       "      <th>20980</th>\n",
       "      <td>12</td>\n",
       "      <td>10.99</td>\n",
       "      <td>10.99</td>\n",
       "      <td>0.00</td>\n",
       "      <td>-5.49</td>\n",
       "      <td>0</td>\n",
       "      <td>0</td>\n",
       "      <td>0.081942</td>\n",
       "    </tr>\n",
       "    <tr>\n",
       "      <th>20981</th>\n",
       "      <td>5</td>\n",
       "      <td>39.00</td>\n",
       "      <td>39.00</td>\n",
       "      <td>0.00</td>\n",
       "      <td>-19.50</td>\n",
       "      <td>1</td>\n",
       "      <td>0</td>\n",
       "      <td>0.084399</td>\n",
       "    </tr>\n",
       "    <tr>\n",
       "      <th>20982</th>\n",
       "      <td>12</td>\n",
       "      <td>58.00</td>\n",
       "      <td>49.00</td>\n",
       "      <td>-9.00</td>\n",
       "      <td>-9.00</td>\n",
       "      <td>0</td>\n",
       "      <td>1</td>\n",
       "      <td>0.073191</td>\n",
       "    </tr>\n",
       "  </tbody>\n",
       "</table>\n",
       "<p>20983 rows × 8 columns</p>\n",
       "</div>"
      ],
      "text/plain": [
       "      Salemonth  ORGPRICE    AMT  amt_diff  retail_diff  \\\n",
       "0             7     79.50  79.50      0.00       -39.75   \n",
       "1             1     18.75  12.50     -6.25        -6.25   \n",
       "2             8     14.50  14.50      0.00         0.00   \n",
       "3             2     34.00  34.00      0.00       -24.01   \n",
       "4             2     22.00  20.00     -2.00        -2.00   \n",
       "...         ...       ...    ...       ...          ...   \n",
       "20978        11     19.50  18.50     -1.00        -1.00   \n",
       "20979         9    110.25  60.00    -50.25       -95.25   \n",
       "20980        12     10.99  10.99      0.00        -5.49   \n",
       "20981         5     39.00  39.00      0.00       -19.50   \n",
       "20982        12     58.00  49.00     -9.00        -9.00   \n",
       "\n",
       "       BRAND_dummy_Affordable  BRAND_dummy_Luxury  ReturnRate  \n",
       "0                           0                   1    0.081596  \n",
       "1                           1                   0    0.085262  \n",
       "2                           0                   0    0.084576  \n",
       "3                           1                   0    0.073191  \n",
       "4                           1                   0    0.073191  \n",
       "...                       ...                 ...         ...  \n",
       "20978                       1                   0    0.074856  \n",
       "20979                       0                   1    0.073191  \n",
       "20980                       0                   0    0.081942  \n",
       "20981                       1                   0    0.084399  \n",
       "20982                       0                   1    0.073191  \n",
       "\n",
       "[20983 rows x 8 columns]"
      ]
     },
     "execution_count": 42,
     "metadata": {},
     "output_type": "execute_result"
    }
   ],
   "source": [
    "X_train"
   ]
  },
  {
   "cell_type": "code",
   "execution_count": 43,
   "metadata": {},
   "outputs": [
    {
     "data": {
      "text/plain": [
       "False"
      ]
     },
     "execution_count": 43,
     "metadata": {},
     "output_type": "execute_result"
    }
   ],
   "source": [
    "y_train.isnull().any()"
   ]
  },
  {
   "cell_type": "code",
   "execution_count": 44,
   "metadata": {},
   "outputs": [],
   "source": [
    "# Instantiate the SMOTE algorithm\n",
    "smote = SMOTE(random_state=42)\n",
    "\n",
    "# Apply SMOTE to balance the classes\n",
    "X_resampled, y_resampled = smote.fit_resample(X_train, y_train)\n",
    "\n",
    "# Create a new DataFrame with the resampled data\n",
    "resampled_df = pd.concat([pd.DataFrame(X_resampled, columns=X_train.columns), pd.Series(y_resampled, name='return')], axis=1)\n"
   ]
  },
  {
   "cell_type": "code",
   "execution_count": 45,
   "metadata": {},
   "outputs": [
    {
     "name": "stdout",
     "output_type": "stream",
     "text": [
      "Before SMOTE: Counter({0: 15000, 1: 5983})\n",
      "After SMOTE: Counter({1: 15000, 0: 15000})\n"
     ]
    }
   ],
   "source": [
    "print(\"Before SMOTE:\", Counter(y_train))\n",
    "print(\"After SMOTE:\", Counter(y_resampled))"
   ]
  },
  {
   "cell_type": "code",
   "execution_count": 46,
   "metadata": {},
   "outputs": [],
   "source": [
    "#Generate random indices for missing values\n",
    "missing_indices = X_resampled[X_resampled['Salemonth'].isnull()].index"
   ]
  },
  {
   "cell_type": "code",
   "execution_count": 47,
   "metadata": {},
   "outputs": [
    {
     "name": "stdout",
     "output_type": "stream",
     "text": [
      "0\n"
     ]
    }
   ],
   "source": [
    "# Replace missing values with random samples from observed values\n",
    "X_resampled.loc[missing_indices, 'Salemonth'] = np.random.choice(X_resampled['Salemonth'].dropna(), size=len(missing_indices))\n",
    "\n",
    "# Verify that missing values have been imputed\n",
    "print(X_resampled['Salemonth'].isnull().sum())"
   ]
  },
  {
   "cell_type": "code",
   "execution_count": 48,
   "metadata": {},
   "outputs": [],
   "source": [
    "resampled_df.to_pickle('df_train_resampled.pkl')\n",
    "test_set.to_pickle('df_test.pkl')"
   ]
  },
  {
   "cell_type": "code",
   "execution_count": 49,
   "metadata": {},
   "outputs": [],
   "source": [
    "df_final.to_pickle('df_final.pkl')"
   ]
  },
  {
   "cell_type": "code",
   "execution_count": 50,
   "metadata": {},
   "outputs": [],
   "source": [
    "random_subset.to_pickle('data_subset.plk')"
   ]
  },
  {
   "cell_type": "markdown",
   "metadata": {},
   "source": [
    "# MODELING - Logistic Regression "
   ]
  },
  {
   "cell_type": "code",
   "execution_count": 51,
   "metadata": {},
   "outputs": [],
   "source": [
    "from sklearn.preprocessing import StandardScaler\n",
    "from sklearn.linear_model import LogisticRegression\n",
    "from sklearn.datasets import make_classification\n",
    "import statsmodels.api as sm\n",
    "from sklearn.metrics import roc_curve, auc"
   ]
  },
  {
   "cell_type": "code",
   "execution_count": 52,
   "metadata": {},
   "outputs": [
    {
     "name": "stdout",
     "output_type": "stream",
     "text": [
      "Columns with all NaN values:\n",
      "Salemonth                 False\n",
      "ORGPRICE                  False\n",
      "AMT                       False\n",
      "amt_diff                  False\n",
      "retail_diff               False\n",
      "BRAND_dummy_Affordable    False\n",
      "BRAND_dummy_Luxury        False\n",
      "ReturnRate                False\n",
      "return                    False\n",
      "dtype: bool\n"
     ]
    }
   ],
   "source": [
    "# Check if every column has all NaN values\n",
    "nan_check_all = resampled_df.isnull().all()\n",
    "\n",
    "# Display the result\n",
    "print(\"Columns with all NaN values:\")\n",
    "print(nan_check_all)"
   ]
  },
  {
   "cell_type": "code",
   "execution_count": 53,
   "metadata": {},
   "outputs": [
    {
     "data": {
      "text/plain": [
       "Salemonth                 category\n",
       "ORGPRICE                   float64\n",
       "AMT                        float64\n",
       "amt_diff                   float64\n",
       "retail_diff                float64\n",
       "BRAND_dummy_Affordable       int64\n",
       "BRAND_dummy_Luxury           int64\n",
       "ReturnRate                 float64\n",
       "return                       int64\n",
       "dtype: object"
      ]
     },
     "execution_count": 53,
     "metadata": {},
     "output_type": "execute_result"
    }
   ],
   "source": [
    "resampled_df.dtypes"
   ]
  },
  {
   "cell_type": "code",
   "execution_count": 54,
   "metadata": {},
   "outputs": [
    {
     "data": {
      "text/plain": [
       "False"
      ]
     },
     "execution_count": 54,
     "metadata": {},
     "output_type": "execute_result"
    }
   ],
   "source": [
    "# Check if any value is of type str in the entire DataFrame\n",
    "any(resampled_df.applymap(lambda x: isinstance(x, str)).any())"
   ]
  },
  {
   "cell_type": "code",
   "execution_count": 55,
   "metadata": {},
   "outputs": [
    {
     "name": "stdout",
     "output_type": "stream",
     "text": [
      "Contains Strings: False\n",
      "Contains Infinite Values: True\n"
     ]
    }
   ],
   "source": [
    "# Check if any column contains strings\n",
    "contains_strings = any(resampled_df.applymap(lambda x: isinstance(x, str)).any())\n",
    "\n",
    "# Check for infinite values (excluding categorical columns)\n",
    "contains_infinite = any(resampled_df.select_dtypes(exclude='category').applymap(np.isfinite).any())\n",
    "\n",
    "print(\"Contains Strings:\", contains_strings)\n",
    "print(\"Contains Infinite Values:\", contains_infinite)"
   ]
  },
  {
   "cell_type": "code",
   "execution_count": 56,
   "metadata": {},
   "outputs": [
    {
     "name": "stdout",
     "output_type": "stream",
     "text": [
      "Columns with Infinite Values: ['Salemonth']\n",
      "Infinite Value Counts per Column:\n",
      "Salemonth    4070\n",
      "dtype: int64\n"
     ]
    }
   ],
   "source": [
    "# Check for infinite values in each column and count them\n",
    "infinite_counts = resampled_df.replace([np.inf, -np.inf], np.nan).isna().sum()\n",
    "\n",
    "# Identify columns with infinite values\n",
    "columns_with_infinite = infinite_counts[infinite_counts > 0].index.tolist()\n",
    "\n",
    "# Display the result\n",
    "print(\"Columns with Infinite Values:\", columns_with_infinite)\n",
    "print(\"Infinite Value Counts per Column:\")\n",
    "print(infinite_counts[columns_with_infinite])"
   ]
  },
  {
   "cell_type": "code",
   "execution_count": 57,
   "metadata": {},
   "outputs": [
    {
     "data": {
      "text/html": [
       "<div>\n",
       "<style scoped>\n",
       "    .dataframe tbody tr th:only-of-type {\n",
       "        vertical-align: middle;\n",
       "    }\n",
       "\n",
       "    .dataframe tbody tr th {\n",
       "        vertical-align: top;\n",
       "    }\n",
       "\n",
       "    .dataframe thead th {\n",
       "        text-align: right;\n",
       "    }\n",
       "</style>\n",
       "<table border=\"1\" class=\"dataframe\">\n",
       "  <thead>\n",
       "    <tr style=\"text-align: right;\">\n",
       "      <th></th>\n",
       "      <th>ORGPRICE</th>\n",
       "      <th>AMT</th>\n",
       "      <th>amt_diff</th>\n",
       "      <th>retail_diff</th>\n",
       "      <th>BRAND_dummy_Affordable</th>\n",
       "      <th>BRAND_dummy_Luxury</th>\n",
       "      <th>ReturnRate</th>\n",
       "      <th>Returns</th>\n",
       "    </tr>\n",
       "  </thead>\n",
       "  <tbody>\n",
       "    <tr>\n",
       "      <th>count</th>\n",
       "      <td>80000.000000</td>\n",
       "      <td>80000.000000</td>\n",
       "      <td>80000.000000</td>\n",
       "      <td>80000.000000</td>\n",
       "      <td>80000.000000</td>\n",
       "      <td>80000.000000</td>\n",
       "      <td>80000.000000</td>\n",
       "      <td>80000.000000</td>\n",
       "    </tr>\n",
       "    <tr>\n",
       "      <th>mean</th>\n",
       "      <td>38.304703</td>\n",
       "      <td>33.922430</td>\n",
       "      <td>-4.382274</td>\n",
       "      <td>-17.824567</td>\n",
       "      <td>0.507350</td>\n",
       "      <td>0.236512</td>\n",
       "      <td>0.075265</td>\n",
       "      <td>0.074788</td>\n",
       "    </tr>\n",
       "    <tr>\n",
       "      <th>std</th>\n",
       "      <td>39.737948</td>\n",
       "      <td>39.018835</td>\n",
       "      <td>16.654408</td>\n",
       "      <td>26.850537</td>\n",
       "      <td>0.499949</td>\n",
       "      <td>0.424943</td>\n",
       "      <td>0.005252</td>\n",
       "      <td>0.263050</td>\n",
       "    </tr>\n",
       "    <tr>\n",
       "      <th>min</th>\n",
       "      <td>0.000000</td>\n",
       "      <td>0.000000</td>\n",
       "      <td>-648.400000</td>\n",
       "      <td>-745.150000</td>\n",
       "      <td>0.000000</td>\n",
       "      <td>0.000000</td>\n",
       "      <td>0.059142</td>\n",
       "      <td>0.000000</td>\n",
       "    </tr>\n",
       "    <tr>\n",
       "      <th>25%</th>\n",
       "      <td>17.500000</td>\n",
       "      <td>14.000000</td>\n",
       "      <td>-2.250000</td>\n",
       "      <td>-25.500000</td>\n",
       "      <td>0.000000</td>\n",
       "      <td>0.000000</td>\n",
       "      <td>0.073191</td>\n",
       "      <td>0.000000</td>\n",
       "    </tr>\n",
       "    <tr>\n",
       "      <th>50%</th>\n",
       "      <td>28.000000</td>\n",
       "      <td>24.000000</td>\n",
       "      <td>0.000000</td>\n",
       "      <td>-10.000000</td>\n",
       "      <td>1.000000</td>\n",
       "      <td>0.000000</td>\n",
       "      <td>0.075151</td>\n",
       "      <td>0.000000</td>\n",
       "    </tr>\n",
       "    <tr>\n",
       "      <th>75%</th>\n",
       "      <td>49.000000</td>\n",
       "      <td>44.000000</td>\n",
       "      <td>0.000000</td>\n",
       "      <td>0.000000</td>\n",
       "      <td>1.000000</td>\n",
       "      <td>0.000000</td>\n",
       "      <td>0.078173</td>\n",
       "      <td>0.000000</td>\n",
       "    </tr>\n",
       "    <tr>\n",
       "      <th>max</th>\n",
       "      <td>895.000000</td>\n",
       "      <td>895.000000</td>\n",
       "      <td>326.700000</td>\n",
       "      <td>278.000000</td>\n",
       "      <td>1.000000</td>\n",
       "      <td>1.000000</td>\n",
       "      <td>0.085262</td>\n",
       "      <td>1.000000</td>\n",
       "    </tr>\n",
       "  </tbody>\n",
       "</table>\n",
       "</div>"
      ],
      "text/plain": [
       "           ORGPRICE           AMT      amt_diff   retail_diff  \\\n",
       "count  80000.000000  80000.000000  80000.000000  80000.000000   \n",
       "mean      38.304703     33.922430     -4.382274    -17.824567   \n",
       "std       39.737948     39.018835     16.654408     26.850537   \n",
       "min        0.000000      0.000000   -648.400000   -745.150000   \n",
       "25%       17.500000     14.000000     -2.250000    -25.500000   \n",
       "50%       28.000000     24.000000      0.000000    -10.000000   \n",
       "75%       49.000000     44.000000      0.000000      0.000000   \n",
       "max      895.000000    895.000000    326.700000    278.000000   \n",
       "\n",
       "       BRAND_dummy_Affordable  BRAND_dummy_Luxury    ReturnRate       Returns  \n",
       "count            80000.000000        80000.000000  80000.000000  80000.000000  \n",
       "mean                 0.507350            0.236512      0.075265      0.074788  \n",
       "std                  0.499949            0.424943      0.005252      0.263050  \n",
       "min                  0.000000            0.000000      0.059142      0.000000  \n",
       "25%                  0.000000            0.000000      0.073191      0.000000  \n",
       "50%                  1.000000            0.000000      0.075151      0.000000  \n",
       "75%                  1.000000            0.000000      0.078173      0.000000  \n",
       "max                  1.000000            1.000000      0.085262      1.000000  "
      ]
     },
     "execution_count": 57,
     "metadata": {},
     "output_type": "execute_result"
    }
   ],
   "source": [
    "train_set.describe()"
   ]
  },
  {
   "cell_type": "code",
   "execution_count": 117,
   "metadata": {},
   "outputs": [
    {
     "name": "stdout",
     "output_type": "stream",
     "text": [
      "Correlation Matrix:\n",
      "                        ORGPRICE       AMT  amt_diff  retail_diff  \\\n",
      "ORGPRICE                1.000000  0.902663 -0.276707    -0.765916   \n",
      "AMT                     0.902663  1.000000  0.163772    -0.585757   \n",
      "amt_diff               -0.276707  0.163772  1.000000     0.447751   \n",
      "retail_diff            -0.765916 -0.585757  0.447751     1.000000   \n",
      "BRAND_dummy_Affordable -0.276455 -0.241279  0.094954     0.245562   \n",
      "BRAND_dummy_Luxury      0.652106  0.598518 -0.158368    -0.537571   \n",
      "ReturnRate              0.033035  0.030433 -0.007772    -0.063688   \n",
      "return                  0.115488  0.134081  0.034663    -0.094381   \n",
      "\n",
      "                        BRAND_dummy_Affordable  BRAND_dummy_Luxury  \\\n",
      "ORGPRICE                             -0.276455            0.652106   \n",
      "AMT                                  -0.241279            0.598518   \n",
      "amt_diff                              0.094954           -0.158368   \n",
      "retail_diff                           0.245562           -0.537571   \n",
      "BRAND_dummy_Affordable                1.000000           -0.630858   \n",
      "BRAND_dummy_Luxury                   -0.630858            1.000000   \n",
      "ReturnRate                           -0.014202            0.031477   \n",
      "return                                0.013070            0.104741   \n",
      "\n",
      "                        ReturnRate    return  \n",
      "ORGPRICE                  0.033035  0.115488  \n",
      "AMT                       0.030433  0.134081  \n",
      "amt_diff                 -0.007772  0.034663  \n",
      "retail_diff              -0.063688 -0.094381  \n",
      "BRAND_dummy_Affordable   -0.014202  0.013070  \n",
      "BRAND_dummy_Luxury        0.031477  0.104741  \n",
      "ReturnRate                1.000000  0.035041  \n",
      "return                    0.035041  1.000000  \n"
     ]
    },
    {
     "name": "stderr",
     "output_type": "stream",
     "text": [
      "/var/folders/48/hmcrzlgx0pd5b5ct_wm842_00000gn/T/ipykernel_868/3471047481.py:1: FutureWarning: The default value of numeric_only in DataFrame.corr is deprecated. In a future version, it will default to False. Select only valid columns or specify the value of numeric_only to silence this warning.\n",
      "  corr_matrix = resampled_df.corr()\n"
     ]
    }
   ],
   "source": [
    "corr_matrix = resampled_df.corr()\n",
    "# Display the correlation matrix\n",
    "print(\"Correlation Matrix:\")\n",
    "print(corr_matrix)"
   ]
  },
  {
   "cell_type": "code",
   "execution_count": 59,
   "metadata": {},
   "outputs": [
    {
     "name": "stdout",
     "output_type": "stream",
     "text": [
      "Columns with zero variance: Index([], dtype='object')\n"
     ]
    }
   ],
   "source": [
    "# Check for zero variance columns \n",
    "zero_var_columns = resampled_df.columns[random_subset.nunique() == 1]\n",
    "print(\"Columns with zero variance:\", zero_var_columns)"
   ]
  },
  {
   "cell_type": "code",
   "execution_count": 60,
   "metadata": {},
   "outputs": [
    {
     "data": {
      "text/plain": [
       "Salemonth                 0\n",
       "ORGPRICE                  0\n",
       "AMT                       0\n",
       "amt_diff                  0\n",
       "retail_diff               0\n",
       "BRAND_dummy_Affordable    0\n",
       "BRAND_dummy_Luxury        0\n",
       "ReturnRate                0\n",
       "dtype: int64"
      ]
     },
     "execution_count": 60,
     "metadata": {},
     "output_type": "execute_result"
    }
   ],
   "source": [
    "X_resampled.isna().sum()"
   ]
  },
  {
   "cell_type": "code",
   "execution_count": 61,
   "metadata": {},
   "outputs": [
    {
     "name": "stdout",
     "output_type": "stream",
     "text": [
      "Intercept: [-0.54712508]\n",
      "Coefficients: [[ 0.00129669 -0.00186754  0.00441286  0.0062804  -0.00467846  0.45084869\n",
      "   0.55886618 -0.0315654 ]]\n"
     ]
    }
   ],
   "source": [
    "mymodel=LogisticRegression()\n",
    "mymodel.fit(X_resampled,y_resampled)\n",
    "\n",
    "# Display the summary\n",
    "print(\"Intercept:\", mymodel.intercept_)\n",
    "print('Coefficients:', mymodel.coef_)"
   ]
  },
  {
   "cell_type": "code",
   "execution_count": 64,
   "metadata": {},
   "outputs": [
    {
     "name": "stdout",
     "output_type": "stream",
     "text": [
      "Accuracy on Test Data: 0.55715\n",
      "Confusion Matrix on Test Data:\n",
      " [[10151  8286]\n",
      " [  571   992]]\n",
      "Classification Report on Test Data:\n",
      "               precision    recall  f1-score   support\n",
      "\n",
      "           0       0.95      0.55      0.70     18437\n",
      "           1       0.11      0.63      0.18      1563\n",
      "\n",
      "    accuracy                           0.56     20000\n",
      "   macro avg       0.53      0.59      0.44     20000\n",
      "weighted avg       0.88      0.56      0.66     20000\n",
      "\n"
     ]
    }
   ],
   "source": [
    "# Make predictions on the resampled test data\n",
    "predict1 = mymodel.predict(X_test)\n",
    "\n",
    "# Evaluate the model on the resampled training data\n",
    "accuracy_resampled = accuracy_score(y_test, predict1)\n",
    "conf_matrix_resampled = confusion_matrix(y_test, predict1)\n",
    "classification_rep_resampled = classification_report(y_test, predict1)\n",
    "\n",
    "# Print the evaluation metrics on the resampled training data\n",
    "print(\"Accuracy on Test Data:\", accuracy_resampled)\n",
    "print(\"Confusion Matrix on Test Data:\\n\", conf_matrix_resampled)\n",
    "print(\"Classification Report on Test Data:\\n\", classification_rep_resampled)"
   ]
  },
  {
   "cell_type": "code",
   "execution_count": 65,
   "metadata": {},
   "outputs": [
    {
     "data": {
      "image/png": "[encoded data removed]",
      "text/plain": [
       "<Figure size 800x800 with 1 Axes>"
      ]
     },
     "metadata": {},
     "output_type": "display_data"
    }
   ],
   "source": [
    "## ROC curve \n",
    "\n",
    "# Generate ROC curve\n",
    "fpr, tpr, thresholds = roc_curve(y_test, predict1)\n",
    "\n",
    "# Calculate the area under the ROC curve (AUC)\n",
    "roc_auc = auc(fpr, tpr)\n",
    "\n",
    "# Plot the ROC curve\n",
    "plt.figure(figsize=(8, 8))\n",
    "plt.plot(fpr, tpr, color='darkorange', lw=2, label=f'ROC curve (AUC = {roc_auc:.2f})')\n",
    "plt.plot([0, 1], [0, 1], color='navy', lw=2, linestyle='--')\n",
    "plt.xlabel('False Positive Rate')\n",
    "plt.ylabel('True Positive Rate')\n",
    "plt.title('Receiver Operating Characteristic (ROC) Curve')\n",
    "plt.legend(loc='lower right')\n",
    "plt.show()"
   ]
  },
  {
   "cell_type": "markdown",
   "metadata": {},
   "source": [
    "## Try Using Stats Models"
   ]
  },
  {
   "cell_type": "code",
   "execution_count": 73,
   "metadata": {},
   "outputs": [
    {
     "name": "stdout",
     "output_type": "stream",
     "text": [
      "Warning: Maximum number of iterations has been exceeded.\n",
      "         Current function value: 0.679152\n",
      "         Iterations: 35\n",
      "                           Logit Regression Results                           \n",
      "==============================================================================\n",
      "Dep. Variable:                Returns   No. Observations:                30000\n",
      "Model:                          Logit   Df Residuals:                    29992\n",
      "Method:                           MLE   Df Model:                            7\n",
      "Date:                Thu, 07 Dec 2023   Pseudo R-squ.:                 0.02019\n",
      "Time:                        18:49:23   Log-Likelihood:                -20375.\n",
      "converged:                      False   LL-Null:                       -20794.\n",
      "Covariance Type:            nonrobust   LLR p-value:                5.035e-177\n",
      "==========================================================================================\n",
      "                             coef    std err          z      P>|z|      [0.025      0.975]\n",
      "------------------------------------------------------------------------------------------\n",
      "Salemonth                 -0.0022      0.004     -0.605      0.545      -0.009       0.005\n",
      "ORGPRICE                  -0.0019   1.17e+04  -1.63e-07      1.000    -2.3e+04     2.3e+04\n",
      "AMT                        0.0043   1.17e+04   3.66e-07      1.000    -2.3e+04     2.3e+04\n",
      "amt_diff                   0.0064   1.17e+04   5.46e-07      1.000    -2.3e+04     2.3e+04\n",
      "retail_diff               -0.0048      0.001     -6.489      0.000      -0.006      -0.003\n",
      "BRAND_dummy_Affordable     0.4248      0.032     13.479      0.000       0.363       0.487\n",
      "BRAND_dummy_Luxury         0.5401      0.047     11.412      0.000       0.447       0.633\n",
      "ReturnRate                -6.6285      0.455    -14.583      0.000      -7.519      -5.738\n",
      "==========================================================================================\n"
     ]
    },
    {
     "name": "stderr",
     "output_type": "stream",
     "text": [
      "/Users/xeniavrettakou/anaconda3/lib/python3.11/site-packages/statsmodels/base/model.py:607: ConvergenceWarning: Maximum Likelihood optimization failed to converge. Check mle_retvals\n",
      "  warnings.warn(\"Maximum Likelihood optimization failed to \"\n"
     ]
    }
   ],
   "source": [
    "import statsmodels.api as sm\n",
    "from sklearn.model_selection import train_test_split\n",
    "from imblearn.over_sampling import SMOTE\n",
    "import pandas as pd\n",
    "\n",
    "# Add a constant to the features matrix for statsmodels\n",
    "model1 = sm.add_constant(X_resampled)\n",
    "\n",
    "# Create and fit a logistic regression model with statsmodels\n",
    "logit_model = sm.Logit(y_resampled, X_resampled)\n",
    "result = logit_model.fit()\n",
    "\n",
    "# Display the summary\n",
    "print(result.summary())\n"
   ]
  },
  {
   "cell_type": "code",
   "execution_count": 74,
   "metadata": {},
   "outputs": [
    {
     "name": "stdout",
     "output_type": "stream",
     "text": [
      "P-values:\n",
      "Salemonth                 5.450095e-01\n",
      "ORGPRICE                  9.999999e-01\n",
      "AMT                       9.999997e-01\n",
      "amt_diff                  9.999996e-01\n",
      "retail_diff               8.664716e-11\n",
      "BRAND_dummy_Affordable    2.090533e-41\n",
      "BRAND_dummy_Luxury        3.653781e-30\n",
      "ReturnRate                3.600921e-48\n",
      "dtype: float64\n"
     ]
    }
   ],
   "source": [
    "p_values = result.pvalues\n",
    "print(\"P-values:\")\n",
    "print(p_values)"
   ]
  },
  {
   "cell_type": "markdown",
   "metadata": {},
   "source": [
    "## Model Improvement "
   ]
  },
  {
   "cell_type": "code",
   "execution_count": 84,
   "metadata": {},
   "outputs": [
    {
     "data": {
      "text/plain": [
       "Index(['Salemonth', 'ORGPRICE', 'AMT', 'amt_diff', 'retail_diff',\n",
       "       'BRAND_dummy_Affordable', 'BRAND_dummy_Luxury', 'ReturnRate'],\n",
       "      dtype='object')"
      ]
     },
     "execution_count": 84,
     "metadata": {},
     "output_type": "execute_result"
    }
   ],
   "source": [
    "X_resampled.columns"
   ]
  },
  {
   "cell_type": "code",
   "execution_count": 89,
   "metadata": {},
   "outputs": [
    {
     "name": "stdout",
     "output_type": "stream",
     "text": [
      "Optimization terminated successfully.\n",
      "         Current function value: 0.682104\n",
      "         Iterations 5\n",
      "                           Logit Regression Results                           \n",
      "==============================================================================\n",
      "Dep. Variable:                Returns   No. Observations:                30000\n",
      "Model:                          Logit   Df Residuals:                    29994\n",
      "Method:                           MLE   Df Model:                            5\n",
      "Date:                Thu, 07 Dec 2023   Pseudo R-squ.:                 0.01593\n",
      "Time:                        18:51:43   Log-Likelihood:                -20463.\n",
      "converged:                       True   LL-Null:                       -20794.\n",
      "Covariance Type:            nonrobust   LLR p-value:                5.942e-141\n",
      "==========================================================================================\n",
      "                             coef    std err          z      P>|z|      [0.025      0.975]\n",
      "------------------------------------------------------------------------------------------\n",
      "Salemonth                 -0.0055      0.004     -1.527      0.127      -0.012       0.002\n",
      "ORGPRICE                   0.0025      0.001      4.442      0.000       0.001       0.004\n",
      "retail_diff               -0.0009      0.001     -1.285      0.199      -0.002       0.000\n",
      "BRAND_dummy_Affordable     0.4527      0.031     14.471      0.000       0.391       0.514\n",
      "BRAND_dummy_Luxury         0.6113      0.046     13.305      0.000       0.521       0.701\n",
      "ReturnRate                -6.4208      0.453    -14.186      0.000      -7.308      -5.534\n",
      "==========================================================================================\n"
     ]
    }
   ],
   "source": [
    "drop2 = ['AMT','amt_diff']\n",
    "\n",
    "# Drop the specified columns\n",
    "X_resampled_reduced = X_resampled.drop(columns=drop2, inplace=False)\n",
    "\n",
    "# Add a constant to the features matrix for statsmodels\n",
    "x_with_const = sm.add_constant(X_resampled_reduced)\n",
    "\n",
    "# Create and fit a logistic regression model with statsmodels\n",
    "logit_model = sm.Logit(y_resampled, X_resampled_reduced)\n",
    "result = logit_model.fit()\n",
    "\n",
    "# Display the summary\n",
    "print(result.summary())"
   ]
  },
  {
   "cell_type": "code",
   "execution_count": 113,
   "metadata": {},
   "outputs": [
    {
     "name": "stdout",
     "output_type": "stream",
     "text": [
      "Optimization terminated successfully.\n",
      "         Current function value: 0.682131\n",
      "         Iterations 5\n",
      "                           Logit Regression Results                           \n",
      "==============================================================================\n",
      "Dep. Variable:                Returns   No. Observations:                30000\n",
      "Model:                          Logit   Df Residuals:                    29995\n",
      "Method:                           MLE   Df Model:                            4\n",
      "Date:                Thu, 07 Dec 2023   Pseudo R-squ.:                 0.01589\n",
      "Time:                        22:08:36   Log-Likelihood:                -20464.\n",
      "converged:                       True   LL-Null:                       -20794.\n",
      "Covariance Type:            nonrobust   LLR p-value:                9.816e-142\n",
      "==========================================================================================\n",
      "                             coef    std err          z      P>|z|      [0.025      0.975]\n",
      "------------------------------------------------------------------------------------------\n",
      "Salemonth                 -0.0059      0.004     -1.664      0.096      -0.013       0.001\n",
      "ORGPRICE                   0.0029      0.000      6.631      0.000       0.002       0.004\n",
      "BRAND_dummy_Affordable     0.4518      0.031     14.440      0.000       0.390       0.513\n",
      "BRAND_dummy_Luxury         0.6136      0.046     13.345      0.000       0.523       0.704\n",
      "ReturnRate                -6.4078      0.453    -14.161      0.000      -7.295      -5.521\n",
      "==========================================================================================\n"
     ]
    }
   ],
   "source": [
    "drop3 = ['AMT','amt_diff','retail_diff']\n",
    "\n",
    "# Drop the specified columns\n",
    "X_resampled_reduced3 = X_resampled.drop(columns=drop3, inplace=False)\n",
    "\n",
    "# Add a constant to the features matrix for statsmodels\n",
    "x_with_const3 = sm.add_constant(X_resampled_reduced3)\n",
    "\n",
    "# Create and fit a logistic regression model with statsmodels\n",
    "logit_model3 = sm.Logit(y_resampled, X_resampled_reduced3)\n",
    "result3 = logit_model3.fit()\n",
    "\n",
    "# Display the summary\n",
    "print(result3.summary())"
   ]
  },
  {
   "cell_type": "markdown",
   "metadata": {},
   "source": [
    "## Replicate in SKLearn"
   ]
  },
  {
   "cell_type": "code",
   "execution_count": 111,
   "metadata": {},
   "outputs": [
    {
     "name": "stdout",
     "output_type": "stream",
     "text": [
      "Coefficients: [[-0.0022784   0.00304754  0.47920028  0.63359769 -0.02940541]]\n",
      "Intercept: [-0.53280026]\n",
      "Model Summary:\n",
      "Accuracy on training set: 0.5677666666666666\n",
      "Accuracy on test set: 0.5677666666666666\n",
      "\n",
      "Confusion Matrix:\n",
      "[[ 7803 10634]\n",
      " [  415  1148]]\n",
      "\n",
      "Classification Report:\n",
      "              precision    recall  f1-score   support\n",
      "\n",
      "           0       0.95      0.42      0.59     18437\n",
      "           1       0.10      0.73      0.17      1563\n",
      "\n",
      "    accuracy                           0.45     20000\n",
      "   macro avg       0.52      0.58      0.38     20000\n",
      "weighted avg       0.88      0.45      0.55     20000\n",
      "\n"
     ]
    }
   ],
   "source": [
    "# Drop specified columns\n",
    "drop3 = ['AMT', 'amt_diff', 'retail_diff']\n",
    "\n",
    "X_resampled_reduced3 = X_resampled.drop(columns=drop3, inplace=False)\n",
    "X_test_reduced = X_test.drop(columns=drop3, inplace=False)\n",
    "\n",
    "# Create and fit a logistic regression model with scikit-learn\n",
    "final_fit = LogisticRegression()\n",
    "final_fit.fit(X_resampled_reduced3, y_resampled)\n",
    "\n",
    "# Display the coefficients and intercept\n",
    "print(\"Coefficients:\", final_fit.coef_)\n",
    "print(\"Intercept:\", final_fit.intercept_)\n",
    "\n",
    "# Display the summary (optional, not as detailed as statsmodels summary)\n",
    "print(\"Model Summary:\")\n",
    "print(\"Accuracy on training set:\", final_fit.score(X_resampled_reduced3, y_resampled))\n",
    "print(\"Accuracy on test set:\", final_fit.score(X_resampled_reduced3, y_resampled))\n",
    "\n",
    "# Make predictions on the test set\n",
    "final_pred = final_fit.predict(X_test_reduced)\n",
    "\n",
    "# Create a confusion matrix\n",
    "conf_matrix = confusion_matrix(y_test, final_pred)\n",
    "\n",
    "# Display the confusion matrix\n",
    "print(\"\\nConfusion Matrix:\")\n",
    "print(conf_matrix)\n",
    "\n",
    "# Calculate additional metrics using scikit-learn\n",
    "print(\"\\nClassification Report:\")\n",
    "print(classification_report(y_test, final_pred))"
   ]
  }
 ],
 "metadata": {
  "kernelspec": {
   "display_name": "base",
   "language": "python",
   "name": "python3"
  },
  "language_info": {
   "codemirror_mode": {
    "name": "ipython",
    "version": 3
   },
   "file_extension": ".py",
   "mimetype": "text/x-python",
   "name": "python",
   "nbconvert_exporter": "python",
   "pygments_lexer": "ipython3",
   "version": "3.11.4"
  },
  "orig_nbformat": 4
 },
 "nbformat": 4,
 "nbformat_minor": 2
}
